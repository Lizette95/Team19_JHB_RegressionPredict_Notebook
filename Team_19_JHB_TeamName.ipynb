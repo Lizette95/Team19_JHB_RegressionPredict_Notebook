{
  "nbformat": 4,
  "nbformat_minor": 0,
  "metadata": {
    "kernelspec": {
      "display_name": "Python 3",
      "language": "python",
      "name": "python3"
    },
    "language_info": {
      "codemirror_mode": {
        "name": "ipython",
        "version": 3
      },
      "file_extension": ".py",
      "mimetype": "text/x-python",
      "name": "python",
      "nbconvert_exporter": "python",
      "pygments_lexer": "ipython3",
      "version": "3.7.4"
    },
    "colab": {
      "name": "Team_19_JHB_TeamName.ipynb",
      "provenance": [],
      "collapsed_sections": []
    }
  },
  "cells": [
    {
      "cell_type": "markdown",
      "metadata": {
        "id": "JmwSEWO22Fw1",
        "colab_type": "text"
      },
      "source": [
        "# Team 19 JHB #TeamName\n",
        "---\n",
        "<img src=\"https://github.com/Lizette95/notebook_images/blob/master/banner.png?raw=true\" align=\"left\">  \n"
      ]
    },
    {
      "cell_type": "markdown",
      "metadata": {
        "id": "DFFep1GsLgDr",
        "colab_type": "text"
      },
      "source": [
        "---\n",
        "**Markdown Cheatsheet:**\n",
        "https://github.com/adam-p/markdown-here/wiki/Markdown-Cheatsheet\n",
        "\n",
        "---"
      ]
    },
    {
      "cell_type": "markdown",
      "metadata": {
        "id": "PJbrOXzh2Fw3",
        "colab_type": "text"
      },
      "source": [
        "### Table of Contents\n",
        "---\n",
        "1. [Introduction](#intro)\n",
        " * Project Description\n",
        " * Datasets and Variables\n",
        "---\n",
        "2. [Module Imports](#imports)\n",
        "---\n",
        "3. [Exploratory Data Analysis](#EDA)\n",
        " * Load Data\n",
        " * Merge Datasets\n",
        " * Data Summary Statistics\n",
        " * Missing Data\n",
        " * Numerical Features\n",
        " * Categorical Features\n",
        "---\n",
        "4. [Data Preprocessing](#preprocessing)\n",
        "---\n",
        "5. [Modelling](#modelling)\n",
        "---\n",
        "6. [Performance Evaluation](#evaluation)\n",
        "---\n",
        "7. [Model Analysis](#analysis)\n",
        "---\n",
        "8. [Conclusion](#conclusion)"
      ]
    },
    {
      "cell_type": "markdown",
      "metadata": {
        "id": "FuWPzFFu2Fw4",
        "colab_type": "text"
      },
      "source": [
        "<a id=\"intro\"></a>\n",
        "## Introduction  \n",
        "\n",
        "### Project Description\n",
        "\n",
        "Machine learning is a powerful branch of Artificial Intelligence, dating as far back as 1952,  developed to teach computer systems how to make decisions emanated from preexisting data. Mathematical algorithms are applied to training data which allows a machine to identify patterns and make predictions for unseen datasets.\n",
        "\n",
        "Regression is a popular supervised learning statistical method that aims to predict the value of a dependent variable (y) based on an independent variable (x). The relationship between the variables can be linear or nonlinear.\n",
        "\n",
        "The Zindi challenge, hosted by Sendy in partnership with insight2impact facility, is to build a regression model that will predict an accurate time of arrival for motobike deliveries from the pickup point to the destination of the package. An accurate arrival time will enhance customer communication and customer experience. In addition, the solution will help businesses reduce the cost of trade through better management of resources and planning.\n",
        "\n",
        "\n",
        "The dataset provided by Sendy includes order details and rider metrics based on orders made on the Sendy platform. The challenge is to predict the estimated time of arrival for orders, from pick-up to drop-off. The training dataset is a subset of over 20,000 orders and only includes direct orders (i.e. Sendy “express” orders) with bikes in Nairobi. \n",
        "\n",
        "### Datasets and Variables  \n",
        "\n",
        "**train_data:** The dataset that will be used to train our model  \n",
        "**test_data:** The dataset on which we will apply our model to  \n",
        "**riders:** Contains unique rider Ids, number of orders, age, rating and number of ratings\n",
        "\n",
        "**Order details**  \n",
        "* Order No: Unique number identifying the order  \n",
        "* User Id: Unique number identifying the customer on a platform  \n",
        "* Vehicle Type: For this competition limited to bikes, however in practice, Sendy service extends to trucks and vans  \n",
        "* Platform Type: Platform used to place the order (there are 4 types)  \n",
        "* Personal or Business: Customer type  \n",
        "\n",
        "**Placement times**  \n",
        "* Placement: Day of Month (i.e 1-31)  \n",
        "* Placement: Weekday (Monday = 1)  \n",
        "* Placement: Time - Time of day the order was placed  \n",
        "\n",
        "**Confirmation times**  \n",
        "* Confirmation: Day of Month (i.e 1-31)  \n",
        "* Confirmation: Weekday (Monday = 1)  \n",
        "* Confirmation: Time (Time of day the order was confirmed by a rider)  \n",
        "\n",
        "**Arrival at Pickup times**  \n",
        "* Arrival at Pickup: Day of Month (i.e 1-31)  \n",
        "* Arrival at Pickup: Weekday (Monday = 1)  \n",
        "* Arrival at Pickup: Time (Time of day the rider arrived at the location to pick up the order - as marked by the rider through the Sendy application)  \n",
        "\n",
        "**Pickup times**  \n",
        "* Pickup: Day of Month (i.e 1-31)  \n",
        "* Pickup: Weekday (Monday = 1)  \n",
        "* Pickup: Time (Time of day the rider picked up the order - as marked by the rider through the Sendy application)  \n",
        "\n",
        "**Arrival at Destination times** (not in Test set)  \n",
        "* Arrival at Delivery: Day of Month (i.e 1-31)  \n",
        "* Arrival at Delivery: Weekday (Monday = 1)  \n",
        "* Arrival at Delivery: Time (Time of day the rider arrived at the destination to deliver the order - as marked by the rider through the Sendy application)  \n",
        "* Distance covered (KM): The distance from Pickup to Destination  \n",
        "* Temperature: Temperature at the time of order placement in Degrees Celsius (measured every three hours)  \n",
        "* Precipitation in Millimeters: Precipitation at the time of order placement (measured every three hours)  \n",
        "* Pickup Latitude and Longitude: Latitude and longitude of pick up location  \n",
        "* Destination Latitude and Longitude: Latitude and longitude of delivery location  \n",
        "* Rider ID: ID of the Rider who accepted the order  \n",
        "* Time from Pickup to Arrival: Time in seconds between ‘Pickup’ and ‘Arrival at Destination’    \n",
        "\n",
        "**Rider metrics**  \n",
        "* Rider ID: Unique number identifying the rider (same as in order details)  \n",
        "* No of Orders: Number of Orders the rider has delivered  \n",
        "* Age: Number of days since the rider delivered the first order  \n",
        "* Average Rating: Average rating of the rider  \n",
        "* No of Ratings: Number of ratings the rider has received. Rating an order is optional for the customer"
      ]
    },
    {
      "cell_type": "markdown",
      "metadata": {
        "id": "_9Q_MjhR2Fw5",
        "colab_type": "text"
      },
      "source": [
        "<a id=\"imports\"></a>\n",
        "## Module Imports"
      ]
    },
    {
      "cell_type": "code",
      "metadata": {
        "id": "sHYujSMU2Fw7",
        "colab_type": "code",
        "colab": {}
      },
      "source": [
        "# Ignore warnings\n",
        "import warnings\n",
        "warnings.simplefilter(action='ignore')\n",
        "\n",
        "# Import modules\n",
        "import numpy as np\n",
        "import pandas as pd\n",
        "import seaborn as sns\n",
        "import matplotlib.pyplot as plt\n",
        "\n",
        "# Display\n",
        "%matplotlib inline\n",
        "sns.set_style(\"white\")"
      ],
      "execution_count": 0,
      "outputs": []
    },
    {
      "cell_type": "markdown",
      "metadata": {
        "id": "vMewlKRL2FxH",
        "colab_type": "text"
      },
      "source": [
        "<a id=\"EDA\"></a>\n",
        "## Exploratory Data Analysis"
      ]
    },
    {
      "cell_type": "markdown",
      "metadata": {
        "id": "bSQ8kXgtOUcA",
        "colab_type": "text"
      },
      "source": [
        "### Load Data"
      ]
    },
    {
      "cell_type": "code",
      "metadata": {
        "id": "0rX4HySU2FxI",
        "colab_type": "code",
        "colab": {}
      },
      "source": [
        "### Load data"
      ],
      "execution_count": 0,
      "outputs": []
    },
    {
      "cell_type": "markdown",
      "metadata": {
        "id": "mMhyf8l4OY3X",
        "colab_type": "text"
      },
      "source": [
        "### Merge Datasets"
      ]
    },
    {
      "cell_type": "code",
      "metadata": {
        "id": "RjZzvikJOrUZ",
        "colab_type": "code",
        "colab": {}
      },
      "source": [
        ""
      ],
      "execution_count": 0,
      "outputs": []
    },
    {
      "cell_type": "markdown",
      "metadata": {
        "id": "ZzK6Gm67OZDr",
        "colab_type": "text"
      },
      "source": [
        "### Data Summary Statistics"
      ]
    },
    {
      "cell_type": "code",
      "metadata": {
        "id": "FhOACZ9hOrsv",
        "colab_type": "code",
        "colab": {}
      },
      "source": [
        ""
      ],
      "execution_count": 0,
      "outputs": []
    },
    {
      "cell_type": "markdown",
      "metadata": {
        "id": "XeQLq1rQOZP0",
        "colab_type": "text"
      },
      "source": [
        "### Missing Data"
      ]
    },
    {
      "cell_type": "code",
      "metadata": {
        "id": "nojWNPNfOsFf",
        "colab_type": "code",
        "colab": {}
      },
      "source": [
        ""
      ],
      "execution_count": 0,
      "outputs": []
    },
    {
      "cell_type": "markdown",
      "metadata": {
        "id": "ED_Yut8kOZbg",
        "colab_type": "text"
      },
      "source": [
        "### Numerical Features"
      ]
    },
    {
      "cell_type": "code",
      "metadata": {
        "id": "3EtkoJyVOsbt",
        "colab_type": "code",
        "colab": {}
      },
      "source": [
        ""
      ],
      "execution_count": 0,
      "outputs": []
    },
    {
      "cell_type": "markdown",
      "metadata": {
        "id": "3_TXux35OZ55",
        "colab_type": "text"
      },
      "source": [
        "### Categorical Features"
      ]
    },
    {
      "cell_type": "code",
      "metadata": {
        "id": "lIVL09xQOs2f",
        "colab_type": "code",
        "colab": {}
      },
      "source": [
        ""
      ],
      "execution_count": 0,
      "outputs": []
    },
    {
      "cell_type": "markdown",
      "metadata": {
        "id": "z6jONYzo2Fx2",
        "colab_type": "text"
      },
      "source": [
        "<a id=\"preprocessing\"></a>\n",
        "## Data Preprocessing"
      ]
    },
    {
      "cell_type": "code",
      "metadata": {
        "id": "TYN7y0oW2Fx3",
        "colab_type": "code",
        "colab": {}
      },
      "source": [
        ""
      ],
      "execution_count": 0,
      "outputs": []
    },
    {
      "cell_type": "markdown",
      "metadata": {
        "id": "chM0AHBJ2FyD",
        "colab_type": "text"
      },
      "source": [
        "<a id=\"modelling\"></a>\n",
        "## Modelling"
      ]
    },
    {
      "cell_type": "code",
      "metadata": {
        "id": "VghElnpp2FyI",
        "colab_type": "code",
        "colab": {}
      },
      "source": [
        ""
      ],
      "execution_count": 0,
      "outputs": []
    },
    {
      "cell_type": "markdown",
      "metadata": {
        "id": "teKzAXIF2FyS",
        "colab_type": "text"
      },
      "source": [
        "<a id=\"evaluation\"></a>\n",
        "## Performance Evaluation"
      ]
    },
    {
      "cell_type": "code",
      "metadata": {
        "id": "TKnr90gF2FyT",
        "colab_type": "code",
        "colab": {}
      },
      "source": [
        ""
      ],
      "execution_count": 0,
      "outputs": []
    },
    {
      "cell_type": "markdown",
      "metadata": {
        "id": "5BiBBxvR2FyY",
        "colab_type": "text"
      },
      "source": [
        "<a id=\"analysis\"></a>\n",
        "## Model Analysis"
      ]
    },
    {
      "cell_type": "code",
      "metadata": {
        "id": "F5MAHPU62FyZ",
        "colab_type": "code",
        "colab": {}
      },
      "source": [
        ""
      ],
      "execution_count": 0,
      "outputs": []
    },
    {
      "cell_type": "markdown",
      "metadata": {
        "id": "hBFjibWi2Fy5",
        "colab_type": "text"
      },
      "source": [
        "<a id=\"conclusion\"></a>\n",
        "## Conclusion"
      ]
    },
    {
      "cell_type": "markdown",
      "metadata": {
        "id": "eoo2Ek6G2Fy6",
        "colab_type": "text"
      },
      "source": [
        "Thank you and goodnight..."
      ]
    },
    {
      "cell_type": "code",
      "metadata": {
        "id": "u0fv7T7k2gD3",
        "colab_type": "code",
        "colab": {}
      },
      "source": [
        ""
      ],
      "execution_count": 0,
      "outputs": []
    }
  ]
}