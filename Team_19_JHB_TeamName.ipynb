{
  "nbformat": 4,
  "nbformat_minor": 0,
  "metadata": {
    "colab": {
      "name": "Team_19_JHB_TeamName.ipynb",
      "provenance": [],
      "collapsed_sections": []
    },
    "kernelspec": {
      "display_name": "Python 3",
      "language": "python",
      "name": "python3"
    },
    "language_info": {
      "codemirror_mode": {
        "name": "ipython",
        "version": 3
      },
      "file_extension": ".py",
      "mimetype": "text/x-python",
      "name": "python",
      "nbconvert_exporter": "python",
      "pygments_lexer": "ipython3",
      "version": "3.7.4"
    }
  },
  "cells": [
    {
      "cell_type": "markdown",
      "metadata": {
        "colab_type": "text",
        "id": "JmwSEWO22Fw1"
      },
      "source": [
        "# Regression Predict\n",
        "### Team_19_JHB_RuPaul'sRegRace\n",
        "---\n",
        "<img src=\"https://github.com/Lizette95/regression-predict-api-template/blob/master/utils/banner.png?raw=true\" align=\"left\">  \n"
      ]
    },
    {
      "cell_type": "markdown",
      "metadata": {
        "colab_type": "text",
        "id": "PJbrOXzh2Fw3"
      },
      "source": [
        "### Table of Contents\n",
        "---\n",
        "1. [Introduction](#intro)\n",
        " * Project Description\n",
        " * Datasets and Variables\n",
        "---\n",
        "2. [Module Imports](#imports)\n",
        "---\n",
        "3. [Data Cleaning](#data)\n",
        " * Load Data\n",
        " * Merge Datasets\n",
        " * Missing Data\n",
        " * Remove Target Outliers\n",
        "---\n",
        "4. [Exploratory Data Analysis](#EDA)\n",
        " * Data Summary Statistics\n",
        " * Univariate Analysis and Visualisation\n",
        " * Bivariate Analysis and Visualisation\n",
        " * Map Visualisation\n",
        " * Feature Correlation Analyis\n",
        "---\n",
        "5. [Data Preprocessing](#preprocessing) \n",
        " * Feature Engineering\n",
        " * Encoding Categorical Data\n",
        " * Split Training Set Into Training and Validation Sets\n",
        " * Feature Scaling\n",
        " * Feature Relationships\n",
        "\n",
        "---\n",
        "6. [Modelling](#modelling)\n",
        "---\n",
        "7. [Performance Evaluation](#evaluation)\n",
        "---\n",
        "8. [Model Analysis](#analysis)\n",
        "---\n",
        "9. [Conclusion](#conclusion)"
      ]
    },
    {
      "cell_type": "markdown",
      "metadata": {
        "colab_type": "text",
        "id": "FuWPzFFu2Fw4"
      },
      "source": [
        "<a id=\"intro\"></a>\n",
        "## 1. Introduction  \n",
        "\n",
        "### Project Description\n",
        "\n",
        "Machine learning is a powerful branch of Artificial Intelligence, dating as far back as 1952,  developed to teach computer systems how to make decisions emanated from preexisting data. Mathematical algorithms are applied to training data which allows a machine to identify patterns and make predictions for unseen datasets.\n",
        "\n",
        "Regression is a popular supervised learning statistical method that aims to predict the value of a dependent variable (y) based on an independent variable (x). The relationship between the variables can be linear or nonlinear.\n",
        "\n",
        "The Zindi challenge, hosted by Sendy in partnership with insight2impact facility, is to build a regression model that will predict an accurate time of arrival for motobike deliveries from the pickup point to the destination of the package. An accurate arrival time will enhance customer communication and customer experience. In addition, the solution will help businesses reduce the cost of trade through better management of resources and planning.\n",
        "\n",
        "\n",
        "The dataset provided by Sendy includes order details and rider metrics based on orders made on the Sendy platform. The challenge is to predict the estimated time of arrival for orders, from pick-up to drop-off. The training dataset is a subset of over 20,000 orders and only includes direct orders (i.e. Sendy “express” orders) with bikes in Nairobi. \n",
        "\n",
        "### Datasets and Variables  \n",
        "\n",
        "**train_data:** The dataset that will be used to train our model  \n",
        "**test_data:** The dataset on which we will apply our model to  \n",
        "**riders:** Contains unique rider IDs, number of orders, age, rating and number of ratings\n",
        "\n",
        "**Order details**  \n",
        "* Order No: Unique number identifying the order  \n",
        "* User Id: Unique number identifying the customer on a platform  \n",
        "* Vehicle Type: For this competition limited to bikes, however in practice, Sendy service extends to trucks and vans  \n",
        "* Platform Type: Platform used to place the order (there are 4 types)  \n",
        "* Personal or Business: Customer type  \n",
        "\n",
        "**Placement times**  \n",
        "* Placement: Day of Month (i.e 1-31)  \n",
        "* Placement: Weekday (Monday = 1)  \n",
        "* Placement: Time - Time of day the order was placed  \n",
        "\n",
        "**Confirmation times**  \n",
        "* Confirmation: Day of Month (i.e 1-31)  \n",
        "* Confirmation: Weekday (Monday = 1)  \n",
        "* Confirmation: Time (Time of day the order was confirmed by a rider)  \n",
        "\n",
        "**Arrival at Pickup times**  \n",
        "* Arrival at Pickup: Day of Month (i.e 1-31)  \n",
        "* Arrival at Pickup: Weekday (Monday = 1)  \n",
        "* Arrival at Pickup: Time (Time of day the rider arrived at the location to pick up the order - as marked by the rider through the Sendy application)  \n",
        "\n",
        "**Pickup times**  \n",
        "* Pickup: Day of Month (i.e 1-31)  \n",
        "* Pickup: Weekday (Monday = 1)  \n",
        "* Pickup: Time (Time of day the rider picked up the order - as marked by the rider through the Sendy application)  \n",
        "\n",
        "**Arrival at Destination times** (not in Test set)  \n",
        "* Arrival at Delivery: Day of Month (i.e 1-31)  \n",
        "* Arrival at Delivery: Weekday (Monday = 1)  \n",
        "* Arrival at Delivery: Time (Time of day the rider arrived at the destination to deliver the order - as marked by the rider through the Sendy application)  \n",
        "* Distance covered (KM): The distance from Pickup to Destination  \n",
        "* Temperature: Temperature at the time of order placement in Degrees Celsius (measured every three hours)  \n",
        "* Precipitation in Millimeters: Precipitation at the time of order placement (measured every three hours)  \n",
        "* Pickup Latitude and Longitude: Latitude and longitude of pick up location  \n",
        "* Destination Latitude and Longitude: Latitude and longitude of delivery location  \n",
        "* Rider ID: ID of the Rider who accepted the order  \n",
        "* Time from Pickup to Arrival: Time in seconds between ‘Pickup’ and ‘Arrival at Destination’ **(Target variable)**    \n",
        "\n",
        "**Rider metrics**  \n",
        "* Rider ID: Unique number identifying the rider (same as in order details)  \n",
        "* No of Orders: Number of Orders the rider has delivered  \n",
        "* Age: Number of days since the rider delivered the first order  \n",
        "* Average Rating: Average rating of the rider  \n",
        "* No of Ratings: Number of ratings the rider has received. Rating an order is optional for the customer"
      ]
    },
    {
      "cell_type": "markdown",
      "metadata": {
        "colab_type": "text",
        "id": "_9Q_MjhR2Fw5"
      },
      "source": [
        "<a id=\"imports\"></a>\n",
        "## 2. Module Imports"
      ]
    },
    {
      "cell_type": "code",
      "metadata": {
        "colab_type": "code",
        "id": "sHYujSMU2Fw7",
        "colab": {}
      },
      "source": [
        "# Ignore warnings\n",
        "import warnings\n",
        "warnings.simplefilter(action='ignore')\n",
        "\n",
        "# Import modules\n",
        "import numpy as np\n",
        "import pandas as pd\n",
        "import seaborn as sns\n",
        "import matplotlib.pyplot as plt\n",
        "import sys\n",
        "#!{sys.executable} -m pip install folium\n",
        "import folium\n",
        "from folium.plugins import HeatMap\n",
        "from sklearn.preprocessing import LabelEncoder, OneHotEncoder\n",
        "from sklearn.compose import ColumnTransformer\n",
        "from sklearn.model_selection import train_test_split\n",
        "from sklearn.preprocessing import StandardScaler\n",
        "\n",
        "# Display\n",
        "%matplotlib inline\n",
        "sns.set_style(\"white\")"
      ],
      "execution_count": 0,
      "outputs": []
    },
    {
      "cell_type": "markdown",
      "metadata": {
        "colab_type": "text",
        "id": "vMewlKRL2FxH"
      },
      "source": [
        "<a id=\"data\"></a>\n",
        "## 3. Data Cleaning"
      ]
    },
    {
      "cell_type": "markdown",
      "metadata": {
        "colab_type": "text",
        "id": "bSQ8kXgtOUcA"
      },
      "source": [
        "### Load Data"
      ]
    },
    {
      "cell_type": "code",
      "metadata": {
        "colab_type": "code",
        "id": "0rX4HySU2FxI",
        "colab": {}
      },
      "source": [
        "train_data = pd.read_csv('https://raw.githubusercontent.com/Lizette95/regression-predict-api-template/master/utils/data/Train.csv')\n",
        "test_data = pd.read_csv('https://raw.githubusercontent.com/Lizette95/regression-predict-api-template/master/utils/data/Test.csv')\n",
        "riders = pd.read_csv('https://raw.githubusercontent.com/Lizette95/regression-predict-api-template/master/utils/data/Riders.csv')"
      ],
      "execution_count": 0,
      "outputs": []
    },
    {
      "cell_type": "code",
      "metadata": {
        "id": "6Pi0mluLcRPe",
        "colab_type": "code",
        "colab": {},
        "outputId": "029d5964-ba48-43e9-d3a9-f103ca5fd680"
      },
      "source": [
        "riders.head()"
      ],
      "execution_count": 0,
      "outputs": [
        {
          "output_type": "execute_result",
          "data": {
            "text/html": [
              "<div>\n",
              "<style scoped>\n",
              "    .dataframe tbody tr th:only-of-type {\n",
              "        vertical-align: middle;\n",
              "    }\n",
              "\n",
              "    .dataframe tbody tr th {\n",
              "        vertical-align: top;\n",
              "    }\n",
              "\n",
              "    .dataframe thead th {\n",
              "        text-align: right;\n",
              "    }\n",
              "</style>\n",
              "<table border=\"1\" class=\"dataframe\">\n",
              "  <thead>\n",
              "    <tr style=\"text-align: right;\">\n",
              "      <th></th>\n",
              "      <th>Rider Id</th>\n",
              "      <th>No_Of_Orders</th>\n",
              "      <th>Age</th>\n",
              "      <th>Average_Rating</th>\n",
              "      <th>No_of_Ratings</th>\n",
              "    </tr>\n",
              "  </thead>\n",
              "  <tbody>\n",
              "    <tr>\n",
              "      <th>0</th>\n",
              "      <td>Rider_Id_396</td>\n",
              "      <td>2946</td>\n",
              "      <td>2298</td>\n",
              "      <td>14.0</td>\n",
              "      <td>1159</td>\n",
              "    </tr>\n",
              "    <tr>\n",
              "      <th>1</th>\n",
              "      <td>Rider_Id_479</td>\n",
              "      <td>360</td>\n",
              "      <td>951</td>\n",
              "      <td>13.5</td>\n",
              "      <td>176</td>\n",
              "    </tr>\n",
              "    <tr>\n",
              "      <th>2</th>\n",
              "      <td>Rider_Id_648</td>\n",
              "      <td>1746</td>\n",
              "      <td>821</td>\n",
              "      <td>14.3</td>\n",
              "      <td>466</td>\n",
              "    </tr>\n",
              "    <tr>\n",
              "      <th>3</th>\n",
              "      <td>Rider_Id_753</td>\n",
              "      <td>314</td>\n",
              "      <td>980</td>\n",
              "      <td>12.5</td>\n",
              "      <td>75</td>\n",
              "    </tr>\n",
              "    <tr>\n",
              "      <th>4</th>\n",
              "      <td>Rider_Id_335</td>\n",
              "      <td>536</td>\n",
              "      <td>1113</td>\n",
              "      <td>13.7</td>\n",
              "      <td>156</td>\n",
              "    </tr>\n",
              "  </tbody>\n",
              "</table>\n",
              "</div>"
            ],
            "text/plain": [
              "       Rider Id  No_Of_Orders   Age  Average_Rating  No_of_Ratings\n",
              "0  Rider_Id_396          2946  2298            14.0           1159\n",
              "1  Rider_Id_479           360   951            13.5            176\n",
              "2  Rider_Id_648          1746   821            14.3            466\n",
              "3  Rider_Id_753           314   980            12.5             75\n",
              "4  Rider_Id_335           536  1113            13.7            156"
            ]
          },
          "metadata": {
            "tags": []
          },
          "execution_count": 3
        }
      ]
    },
    {
      "cell_type": "code",
      "metadata": {
        "id": "qvkOtd4kcRPh",
        "colab_type": "code",
        "colab": {},
        "outputId": "dad02ed3-d5ae-465e-d1e0-165eaedad782"
      },
      "source": [
        "train_data.head()"
      ],
      "execution_count": 0,
      "outputs": [
        {
          "output_type": "execute_result",
          "data": {
            "text/html": [
              "<div>\n",
              "<style scoped>\n",
              "    .dataframe tbody tr th:only-of-type {\n",
              "        vertical-align: middle;\n",
              "    }\n",
              "\n",
              "    .dataframe tbody tr th {\n",
              "        vertical-align: top;\n",
              "    }\n",
              "\n",
              "    .dataframe thead th {\n",
              "        text-align: right;\n",
              "    }\n",
              "</style>\n",
              "<table border=\"1\" class=\"dataframe\">\n",
              "  <thead>\n",
              "    <tr style=\"text-align: right;\">\n",
              "      <th></th>\n",
              "      <th>Order No</th>\n",
              "      <th>User Id</th>\n",
              "      <th>Vehicle Type</th>\n",
              "      <th>Platform Type</th>\n",
              "      <th>Personal or Business</th>\n",
              "      <th>Placement - Day of Month</th>\n",
              "      <th>Placement - Weekday (Mo = 1)</th>\n",
              "      <th>Placement - Time</th>\n",
              "      <th>Confirmation - Day of Month</th>\n",
              "      <th>Confirmation - Weekday (Mo = 1)</th>\n",
              "      <th>...</th>\n",
              "      <th>Arrival at Destination - Time</th>\n",
              "      <th>Distance (KM)</th>\n",
              "      <th>Temperature</th>\n",
              "      <th>Precipitation in millimeters</th>\n",
              "      <th>Pickup Lat</th>\n",
              "      <th>Pickup Long</th>\n",
              "      <th>Destination Lat</th>\n",
              "      <th>Destination Long</th>\n",
              "      <th>Rider Id</th>\n",
              "      <th>Time from Pickup to Arrival</th>\n",
              "    </tr>\n",
              "  </thead>\n",
              "  <tbody>\n",
              "    <tr>\n",
              "      <th>0</th>\n",
              "      <td>Order_No_4211</td>\n",
              "      <td>User_Id_633</td>\n",
              "      <td>Bike</td>\n",
              "      <td>3</td>\n",
              "      <td>Business</td>\n",
              "      <td>9</td>\n",
              "      <td>5</td>\n",
              "      <td>9:35:46 AM</td>\n",
              "      <td>9</td>\n",
              "      <td>5</td>\n",
              "      <td>...</td>\n",
              "      <td>10:39:55 AM</td>\n",
              "      <td>4</td>\n",
              "      <td>20.4</td>\n",
              "      <td>NaN</td>\n",
              "      <td>-1.317755</td>\n",
              "      <td>36.830370</td>\n",
              "      <td>-1.300406</td>\n",
              "      <td>36.829741</td>\n",
              "      <td>Rider_Id_432</td>\n",
              "      <td>745</td>\n",
              "    </tr>\n",
              "    <tr>\n",
              "      <th>1</th>\n",
              "      <td>Order_No_25375</td>\n",
              "      <td>User_Id_2285</td>\n",
              "      <td>Bike</td>\n",
              "      <td>3</td>\n",
              "      <td>Personal</td>\n",
              "      <td>12</td>\n",
              "      <td>5</td>\n",
              "      <td>11:16:16 AM</td>\n",
              "      <td>12</td>\n",
              "      <td>5</td>\n",
              "      <td>...</td>\n",
              "      <td>12:17:22 PM</td>\n",
              "      <td>16</td>\n",
              "      <td>26.4</td>\n",
              "      <td>NaN</td>\n",
              "      <td>-1.351453</td>\n",
              "      <td>36.899315</td>\n",
              "      <td>-1.295004</td>\n",
              "      <td>36.814358</td>\n",
              "      <td>Rider_Id_856</td>\n",
              "      <td>1993</td>\n",
              "    </tr>\n",
              "    <tr>\n",
              "      <th>2</th>\n",
              "      <td>Order_No_1899</td>\n",
              "      <td>User_Id_265</td>\n",
              "      <td>Bike</td>\n",
              "      <td>3</td>\n",
              "      <td>Business</td>\n",
              "      <td>30</td>\n",
              "      <td>2</td>\n",
              "      <td>12:39:25 PM</td>\n",
              "      <td>30</td>\n",
              "      <td>2</td>\n",
              "      <td>...</td>\n",
              "      <td>1:00:38 PM</td>\n",
              "      <td>3</td>\n",
              "      <td>NaN</td>\n",
              "      <td>NaN</td>\n",
              "      <td>-1.308284</td>\n",
              "      <td>36.843419</td>\n",
              "      <td>-1.300921</td>\n",
              "      <td>36.828195</td>\n",
              "      <td>Rider_Id_155</td>\n",
              "      <td>455</td>\n",
              "    </tr>\n",
              "    <tr>\n",
              "      <th>3</th>\n",
              "      <td>Order_No_9336</td>\n",
              "      <td>User_Id_1402</td>\n",
              "      <td>Bike</td>\n",
              "      <td>3</td>\n",
              "      <td>Business</td>\n",
              "      <td>15</td>\n",
              "      <td>5</td>\n",
              "      <td>9:25:34 AM</td>\n",
              "      <td>15</td>\n",
              "      <td>5</td>\n",
              "      <td>...</td>\n",
              "      <td>10:05:27 AM</td>\n",
              "      <td>9</td>\n",
              "      <td>19.2</td>\n",
              "      <td>NaN</td>\n",
              "      <td>-1.281301</td>\n",
              "      <td>36.832396</td>\n",
              "      <td>-1.257147</td>\n",
              "      <td>36.795063</td>\n",
              "      <td>Rider_Id_855</td>\n",
              "      <td>1341</td>\n",
              "    </tr>\n",
              "    <tr>\n",
              "      <th>4</th>\n",
              "      <td>Order_No_27883</td>\n",
              "      <td>User_Id_1737</td>\n",
              "      <td>Bike</td>\n",
              "      <td>1</td>\n",
              "      <td>Personal</td>\n",
              "      <td>13</td>\n",
              "      <td>1</td>\n",
              "      <td>9:55:18 AM</td>\n",
              "      <td>13</td>\n",
              "      <td>1</td>\n",
              "      <td>...</td>\n",
              "      <td>10:25:37 AM</td>\n",
              "      <td>9</td>\n",
              "      <td>15.4</td>\n",
              "      <td>NaN</td>\n",
              "      <td>-1.266597</td>\n",
              "      <td>36.792118</td>\n",
              "      <td>-1.295041</td>\n",
              "      <td>36.809817</td>\n",
              "      <td>Rider_Id_770</td>\n",
              "      <td>1214</td>\n",
              "    </tr>\n",
              "  </tbody>\n",
              "</table>\n",
              "<p>5 rows × 29 columns</p>\n",
              "</div>"
            ],
            "text/plain": [
              "         Order No       User Id Vehicle Type  Platform Type  \\\n",
              "0   Order_No_4211   User_Id_633         Bike              3   \n",
              "1  Order_No_25375  User_Id_2285         Bike              3   \n",
              "2   Order_No_1899   User_Id_265         Bike              3   \n",
              "3   Order_No_9336  User_Id_1402         Bike              3   \n",
              "4  Order_No_27883  User_Id_1737         Bike              1   \n",
              "\n",
              "  Personal or Business  Placement - Day of Month  \\\n",
              "0             Business                         9   \n",
              "1             Personal                        12   \n",
              "2             Business                        30   \n",
              "3             Business                        15   \n",
              "4             Personal                        13   \n",
              "\n",
              "   Placement - Weekday (Mo = 1) Placement - Time  Confirmation - Day of Month  \\\n",
              "0                             5       9:35:46 AM                            9   \n",
              "1                             5      11:16:16 AM                           12   \n",
              "2                             2      12:39:25 PM                           30   \n",
              "3                             5       9:25:34 AM                           15   \n",
              "4                             1       9:55:18 AM                           13   \n",
              "\n",
              "   Confirmation - Weekday (Mo = 1)  ... Arrival at Destination - Time  \\\n",
              "0                                5  ...                   10:39:55 AM   \n",
              "1                                5  ...                   12:17:22 PM   \n",
              "2                                2  ...                    1:00:38 PM   \n",
              "3                                5  ...                   10:05:27 AM   \n",
              "4                                1  ...                   10:25:37 AM   \n",
              "\n",
              "   Distance (KM)  Temperature Precipitation in millimeters  Pickup Lat  \\\n",
              "0              4         20.4                          NaN   -1.317755   \n",
              "1             16         26.4                          NaN   -1.351453   \n",
              "2              3          NaN                          NaN   -1.308284   \n",
              "3              9         19.2                          NaN   -1.281301   \n",
              "4              9         15.4                          NaN   -1.266597   \n",
              "\n",
              "   Pickup Long Destination Lat  Destination Long      Rider Id  \\\n",
              "0    36.830370       -1.300406         36.829741  Rider_Id_432   \n",
              "1    36.899315       -1.295004         36.814358  Rider_Id_856   \n",
              "2    36.843419       -1.300921         36.828195  Rider_Id_155   \n",
              "3    36.832396       -1.257147         36.795063  Rider_Id_855   \n",
              "4    36.792118       -1.295041         36.809817  Rider_Id_770   \n",
              "\n",
              "  Time from Pickup to Arrival  \n",
              "0                         745  \n",
              "1                        1993  \n",
              "2                         455  \n",
              "3                        1341  \n",
              "4                        1214  \n",
              "\n",
              "[5 rows x 29 columns]"
            ]
          },
          "metadata": {
            "tags": []
          },
          "execution_count": 4
        }
      ]
    },
    {
      "cell_type": "code",
      "metadata": {
        "id": "_BDcGVIJcRPk",
        "colab_type": "code",
        "colab": {},
        "outputId": "0a87839a-133f-40d3-fdaf-255e25b81954"
      },
      "source": [
        "test_data.head()"
      ],
      "execution_count": 0,
      "outputs": [
        {
          "output_type": "execute_result",
          "data": {
            "text/html": [
              "<div>\n",
              "<style scoped>\n",
              "    .dataframe tbody tr th:only-of-type {\n",
              "        vertical-align: middle;\n",
              "    }\n",
              "\n",
              "    .dataframe tbody tr th {\n",
              "        vertical-align: top;\n",
              "    }\n",
              "\n",
              "    .dataframe thead th {\n",
              "        text-align: right;\n",
              "    }\n",
              "</style>\n",
              "<table border=\"1\" class=\"dataframe\">\n",
              "  <thead>\n",
              "    <tr style=\"text-align: right;\">\n",
              "      <th></th>\n",
              "      <th>Order No</th>\n",
              "      <th>User Id</th>\n",
              "      <th>Vehicle Type</th>\n",
              "      <th>Platform Type</th>\n",
              "      <th>Personal or Business</th>\n",
              "      <th>Placement - Day of Month</th>\n",
              "      <th>Placement - Weekday (Mo = 1)</th>\n",
              "      <th>Placement - Time</th>\n",
              "      <th>Confirmation - Day of Month</th>\n",
              "      <th>Confirmation - Weekday (Mo = 1)</th>\n",
              "      <th>...</th>\n",
              "      <th>Pickup - Weekday (Mo = 1)</th>\n",
              "      <th>Pickup - Time</th>\n",
              "      <th>Distance (KM)</th>\n",
              "      <th>Temperature</th>\n",
              "      <th>Precipitation in millimeters</th>\n",
              "      <th>Pickup Lat</th>\n",
              "      <th>Pickup Long</th>\n",
              "      <th>Destination Lat</th>\n",
              "      <th>Destination Long</th>\n",
              "      <th>Rider Id</th>\n",
              "    </tr>\n",
              "  </thead>\n",
              "  <tbody>\n",
              "    <tr>\n",
              "      <th>0</th>\n",
              "      <td>Order_No_19248</td>\n",
              "      <td>User_Id_3355</td>\n",
              "      <td>Bike</td>\n",
              "      <td>3</td>\n",
              "      <td>Business</td>\n",
              "      <td>27</td>\n",
              "      <td>3</td>\n",
              "      <td>4:44:10 PM</td>\n",
              "      <td>27</td>\n",
              "      <td>3</td>\n",
              "      <td>...</td>\n",
              "      <td>3</td>\n",
              "      <td>5:06:47 PM</td>\n",
              "      <td>8</td>\n",
              "      <td>NaN</td>\n",
              "      <td>NaN</td>\n",
              "      <td>-1.333275</td>\n",
              "      <td>36.870815</td>\n",
              "      <td>-1.305249</td>\n",
              "      <td>36.822390</td>\n",
              "      <td>Rider_Id_192</td>\n",
              "    </tr>\n",
              "    <tr>\n",
              "      <th>1</th>\n",
              "      <td>Order_No_12736</td>\n",
              "      <td>User_Id_3647</td>\n",
              "      <td>Bike</td>\n",
              "      <td>3</td>\n",
              "      <td>Business</td>\n",
              "      <td>17</td>\n",
              "      <td>5</td>\n",
              "      <td>12:57:35 PM</td>\n",
              "      <td>17</td>\n",
              "      <td>5</td>\n",
              "      <td>...</td>\n",
              "      <td>5</td>\n",
              "      <td>1:25:37 PM</td>\n",
              "      <td>5</td>\n",
              "      <td>NaN</td>\n",
              "      <td>NaN</td>\n",
              "      <td>-1.272639</td>\n",
              "      <td>36.794723</td>\n",
              "      <td>-1.277007</td>\n",
              "      <td>36.823907</td>\n",
              "      <td>Rider_Id_868</td>\n",
              "    </tr>\n",
              "    <tr>\n",
              "      <th>2</th>\n",
              "      <td>Order_No_768</td>\n",
              "      <td>User_Id_2154</td>\n",
              "      <td>Bike</td>\n",
              "      <td>3</td>\n",
              "      <td>Business</td>\n",
              "      <td>27</td>\n",
              "      <td>4</td>\n",
              "      <td>11:08:14 AM</td>\n",
              "      <td>27</td>\n",
              "      <td>4</td>\n",
              "      <td>...</td>\n",
              "      <td>4</td>\n",
              "      <td>11:57:54 AM</td>\n",
              "      <td>5</td>\n",
              "      <td>22.8</td>\n",
              "      <td>NaN</td>\n",
              "      <td>-1.290894</td>\n",
              "      <td>36.822971</td>\n",
              "      <td>-1.276574</td>\n",
              "      <td>36.851365</td>\n",
              "      <td>Rider_Id_26</td>\n",
              "    </tr>\n",
              "    <tr>\n",
              "      <th>3</th>\n",
              "      <td>Order_No_15332</td>\n",
              "      <td>User_Id_2910</td>\n",
              "      <td>Bike</td>\n",
              "      <td>3</td>\n",
              "      <td>Business</td>\n",
              "      <td>17</td>\n",
              "      <td>1</td>\n",
              "      <td>1:51:35 PM</td>\n",
              "      <td>17</td>\n",
              "      <td>1</td>\n",
              "      <td>...</td>\n",
              "      <td>1</td>\n",
              "      <td>2:16:52 PM</td>\n",
              "      <td>5</td>\n",
              "      <td>24.5</td>\n",
              "      <td>NaN</td>\n",
              "      <td>-1.290503</td>\n",
              "      <td>36.809646</td>\n",
              "      <td>-1.303382</td>\n",
              "      <td>36.790658</td>\n",
              "      <td>Rider_Id_685</td>\n",
              "    </tr>\n",
              "    <tr>\n",
              "      <th>4</th>\n",
              "      <td>Order_No_21373</td>\n",
              "      <td>User_Id_1205</td>\n",
              "      <td>Bike</td>\n",
              "      <td>3</td>\n",
              "      <td>Business</td>\n",
              "      <td>11</td>\n",
              "      <td>2</td>\n",
              "      <td>11:30:28 AM</td>\n",
              "      <td>11</td>\n",
              "      <td>2</td>\n",
              "      <td>...</td>\n",
              "      <td>2</td>\n",
              "      <td>11:56:04 AM</td>\n",
              "      <td>6</td>\n",
              "      <td>24.4</td>\n",
              "      <td>NaN</td>\n",
              "      <td>-1.281081</td>\n",
              "      <td>36.814423</td>\n",
              "      <td>-1.266467</td>\n",
              "      <td>36.792161</td>\n",
              "      <td>Rider_Id_858</td>\n",
              "    </tr>\n",
              "  </tbody>\n",
              "</table>\n",
              "<p>5 rows × 25 columns</p>\n",
              "</div>"
            ],
            "text/plain": [
              "         Order No       User Id Vehicle Type  Platform Type  \\\n",
              "0  Order_No_19248  User_Id_3355         Bike              3   \n",
              "1  Order_No_12736  User_Id_3647         Bike              3   \n",
              "2    Order_No_768  User_Id_2154         Bike              3   \n",
              "3  Order_No_15332  User_Id_2910         Bike              3   \n",
              "4  Order_No_21373  User_Id_1205         Bike              3   \n",
              "\n",
              "  Personal or Business  Placement - Day of Month  \\\n",
              "0             Business                        27   \n",
              "1             Business                        17   \n",
              "2             Business                        27   \n",
              "3             Business                        17   \n",
              "4             Business                        11   \n",
              "\n",
              "   Placement - Weekday (Mo = 1) Placement - Time  Confirmation - Day of Month  \\\n",
              "0                             3       4:44:10 PM                           27   \n",
              "1                             5      12:57:35 PM                           17   \n",
              "2                             4      11:08:14 AM                           27   \n",
              "3                             1       1:51:35 PM                           17   \n",
              "4                             2      11:30:28 AM                           11   \n",
              "\n",
              "   Confirmation - Weekday (Mo = 1)  ... Pickup - Weekday (Mo = 1)  \\\n",
              "0                                3  ...                         3   \n",
              "1                                5  ...                         5   \n",
              "2                                4  ...                         4   \n",
              "3                                1  ...                         1   \n",
              "4                                2  ...                         2   \n",
              "\n",
              "   Pickup - Time  Distance (KM) Temperature  Precipitation in millimeters  \\\n",
              "0     5:06:47 PM              8         NaN                           NaN   \n",
              "1     1:25:37 PM              5         NaN                           NaN   \n",
              "2    11:57:54 AM              5        22.8                           NaN   \n",
              "3     2:16:52 PM              5        24.5                           NaN   \n",
              "4    11:56:04 AM              6        24.4                           NaN   \n",
              "\n",
              "   Pickup Lat Pickup Long  Destination Lat  Destination Long      Rider Id  \n",
              "0   -1.333275   36.870815        -1.305249         36.822390  Rider_Id_192  \n",
              "1   -1.272639   36.794723        -1.277007         36.823907  Rider_Id_868  \n",
              "2   -1.290894   36.822971        -1.276574         36.851365   Rider_Id_26  \n",
              "3   -1.290503   36.809646        -1.303382         36.790658  Rider_Id_685  \n",
              "4   -1.281081   36.814423        -1.266467         36.792161  Rider_Id_858  \n",
              "\n",
              "[5 rows x 25 columns]"
            ]
          },
          "metadata": {
            "tags": []
          },
          "execution_count": 5
        }
      ]
    },
    {
      "cell_type": "markdown",
      "metadata": {
        "colab_type": "text",
        "id": "mMhyf8l4OY3X"
      },
      "source": [
        "### Merge Datasets"
      ]
    },
    {
      "cell_type": "code",
      "metadata": {
        "id": "SdnjHOafcRPn",
        "colab_type": "code",
        "colab": {},
        "outputId": "2573052f-3f56-4fb0-af19-e8effc2d17c9"
      },
      "source": [
        "# List columns not present in the test dataset\n",
        "for column in train_data.columns:\n",
        "    if column not in test_data.columns:\n",
        "        print(column)"
      ],
      "execution_count": 0,
      "outputs": [
        {
          "output_type": "stream",
          "text": [
            "Arrival at Destination - Day of Month\n",
            "Arrival at Destination - Weekday (Mo = 1)\n",
            "Arrival at Destination - Time\n",
            "Time from Pickup to Arrival\n"
          ],
          "name": "stdout"
        }
      ]
    },
    {
      "cell_type": "code",
      "metadata": {
        "id": "ZPDAd7h-cRPq",
        "colab_type": "code",
        "colab": {}
      },
      "source": [
        "# Merge datasets\n",
        "train_data = pd.merge(train_data,riders,on='Rider Id',how='left')\n",
        "test_data = pd.merge(test_data,riders,on='Rider Id',how='left')\n",
        "\n",
        "# Rename columns\n",
        "\n",
        "train_data.columns = [column.replace(\"Of\",\"of\") for column in train_data.columns]\n",
        "train_data.columns = [column.replace(\"_\",\" \") for column in train_data.columns]\n",
        "train_data.columns = [column.replace(\"(Mo = 1)\",\" \") for column in train_data.columns]\n",
        "train_data = train_data.rename(columns=lambda x: x.strip())\n",
        "test_data.columns = [column.replace(\"Of\",\"of\") for column in test_data.columns]\n",
        "test_data.columns = [column.replace(\"_\",\" \") for column in test_data.columns]\n",
        "test_data.columns = [column.replace(\"(Mo = 1)\",\" \") for column in test_data.columns]\n",
        "test_data = test_data.rename(columns=lambda x: x.strip())"
      ],
      "execution_count": 0,
      "outputs": []
    },
    {
      "cell_type": "code",
      "metadata": {
        "id": "p09ICGqzcRPs",
        "colab_type": "code",
        "colab": {},
        "outputId": "a80b0ca6-43f8-42b2-f67d-395b78a51bc8"
      },
      "source": [
        "train_data.head()"
      ],
      "execution_count": 0,
      "outputs": [
        {
          "output_type": "execute_result",
          "data": {
            "text/html": [
              "<div>\n",
              "<style scoped>\n",
              "    .dataframe tbody tr th:only-of-type {\n",
              "        vertical-align: middle;\n",
              "    }\n",
              "\n",
              "    .dataframe tbody tr th {\n",
              "        vertical-align: top;\n",
              "    }\n",
              "\n",
              "    .dataframe thead th {\n",
              "        text-align: right;\n",
              "    }\n",
              "</style>\n",
              "<table border=\"1\" class=\"dataframe\">\n",
              "  <thead>\n",
              "    <tr style=\"text-align: right;\">\n",
              "      <th></th>\n",
              "      <th>Order No</th>\n",
              "      <th>User Id</th>\n",
              "      <th>Vehicle Type</th>\n",
              "      <th>Platform Type</th>\n",
              "      <th>Personal or Business</th>\n",
              "      <th>Placement - Day of Month</th>\n",
              "      <th>Placement - Weekday</th>\n",
              "      <th>Placement - Time</th>\n",
              "      <th>Confirmation - Day of Month</th>\n",
              "      <th>Confirmation - Weekday</th>\n",
              "      <th>...</th>\n",
              "      <th>Pickup Lat</th>\n",
              "      <th>Pickup Long</th>\n",
              "      <th>Destination Lat</th>\n",
              "      <th>Destination Long</th>\n",
              "      <th>Rider Id</th>\n",
              "      <th>Time from Pickup to Arrival</th>\n",
              "      <th>No of Orders</th>\n",
              "      <th>Age</th>\n",
              "      <th>Average Rating</th>\n",
              "      <th>No of Ratings</th>\n",
              "    </tr>\n",
              "  </thead>\n",
              "  <tbody>\n",
              "    <tr>\n",
              "      <th>0</th>\n",
              "      <td>Order_No_4211</td>\n",
              "      <td>User_Id_633</td>\n",
              "      <td>Bike</td>\n",
              "      <td>3</td>\n",
              "      <td>Business</td>\n",
              "      <td>9</td>\n",
              "      <td>5</td>\n",
              "      <td>9:35:46 AM</td>\n",
              "      <td>9</td>\n",
              "      <td>5</td>\n",
              "      <td>...</td>\n",
              "      <td>-1.317755</td>\n",
              "      <td>36.830370</td>\n",
              "      <td>-1.300406</td>\n",
              "      <td>36.829741</td>\n",
              "      <td>Rider_Id_432</td>\n",
              "      <td>745</td>\n",
              "      <td>1637</td>\n",
              "      <td>1309</td>\n",
              "      <td>13.8</td>\n",
              "      <td>549</td>\n",
              "    </tr>\n",
              "    <tr>\n",
              "      <th>1</th>\n",
              "      <td>Order_No_25375</td>\n",
              "      <td>User_Id_2285</td>\n",
              "      <td>Bike</td>\n",
              "      <td>3</td>\n",
              "      <td>Personal</td>\n",
              "      <td>12</td>\n",
              "      <td>5</td>\n",
              "      <td>11:16:16 AM</td>\n",
              "      <td>12</td>\n",
              "      <td>5</td>\n",
              "      <td>...</td>\n",
              "      <td>-1.351453</td>\n",
              "      <td>36.899315</td>\n",
              "      <td>-1.295004</td>\n",
              "      <td>36.814358</td>\n",
              "      <td>Rider_Id_856</td>\n",
              "      <td>1993</td>\n",
              "      <td>396</td>\n",
              "      <td>339</td>\n",
              "      <td>13.6</td>\n",
              "      <td>69</td>\n",
              "    </tr>\n",
              "    <tr>\n",
              "      <th>2</th>\n",
              "      <td>Order_No_1899</td>\n",
              "      <td>User_Id_265</td>\n",
              "      <td>Bike</td>\n",
              "      <td>3</td>\n",
              "      <td>Business</td>\n",
              "      <td>30</td>\n",
              "      <td>2</td>\n",
              "      <td>12:39:25 PM</td>\n",
              "      <td>30</td>\n",
              "      <td>2</td>\n",
              "      <td>...</td>\n",
              "      <td>-1.308284</td>\n",
              "      <td>36.843419</td>\n",
              "      <td>-1.300921</td>\n",
              "      <td>36.828195</td>\n",
              "      <td>Rider_Id_155</td>\n",
              "      <td>455</td>\n",
              "      <td>1023</td>\n",
              "      <td>242</td>\n",
              "      <td>12.5</td>\n",
              "      <td>114</td>\n",
              "    </tr>\n",
              "    <tr>\n",
              "      <th>3</th>\n",
              "      <td>Order_No_9336</td>\n",
              "      <td>User_Id_1402</td>\n",
              "      <td>Bike</td>\n",
              "      <td>3</td>\n",
              "      <td>Business</td>\n",
              "      <td>15</td>\n",
              "      <td>5</td>\n",
              "      <td>9:25:34 AM</td>\n",
              "      <td>15</td>\n",
              "      <td>5</td>\n",
              "      <td>...</td>\n",
              "      <td>-1.281301</td>\n",
              "      <td>36.832396</td>\n",
              "      <td>-1.257147</td>\n",
              "      <td>36.795063</td>\n",
              "      <td>Rider_Id_855</td>\n",
              "      <td>1341</td>\n",
              "      <td>886</td>\n",
              "      <td>283</td>\n",
              "      <td>14.5</td>\n",
              "      <td>113</td>\n",
              "    </tr>\n",
              "    <tr>\n",
              "      <th>4</th>\n",
              "      <td>Order_No_27883</td>\n",
              "      <td>User_Id_1737</td>\n",
              "      <td>Bike</td>\n",
              "      <td>1</td>\n",
              "      <td>Personal</td>\n",
              "      <td>13</td>\n",
              "      <td>1</td>\n",
              "      <td>9:55:18 AM</td>\n",
              "      <td>13</td>\n",
              "      <td>1</td>\n",
              "      <td>...</td>\n",
              "      <td>-1.266597</td>\n",
              "      <td>36.792118</td>\n",
              "      <td>-1.295041</td>\n",
              "      <td>36.809817</td>\n",
              "      <td>Rider_Id_770</td>\n",
              "      <td>1214</td>\n",
              "      <td>2311</td>\n",
              "      <td>872</td>\n",
              "      <td>14.1</td>\n",
              "      <td>533</td>\n",
              "    </tr>\n",
              "  </tbody>\n",
              "</table>\n",
              "<p>5 rows × 33 columns</p>\n",
              "</div>"
            ],
            "text/plain": [
              "         Order No       User Id Vehicle Type  Platform Type  \\\n",
              "0   Order_No_4211   User_Id_633         Bike              3   \n",
              "1  Order_No_25375  User_Id_2285         Bike              3   \n",
              "2   Order_No_1899   User_Id_265         Bike              3   \n",
              "3   Order_No_9336  User_Id_1402         Bike              3   \n",
              "4  Order_No_27883  User_Id_1737         Bike              1   \n",
              "\n",
              "  Personal or Business  Placement - Day of Month  Placement - Weekday  \\\n",
              "0             Business                         9                    5   \n",
              "1             Personal                        12                    5   \n",
              "2             Business                        30                    2   \n",
              "3             Business                        15                    5   \n",
              "4             Personal                        13                    1   \n",
              "\n",
              "  Placement - Time  Confirmation - Day of Month  Confirmation - Weekday  ...  \\\n",
              "0       9:35:46 AM                            9                       5  ...   \n",
              "1      11:16:16 AM                           12                       5  ...   \n",
              "2      12:39:25 PM                           30                       2  ...   \n",
              "3       9:25:34 AM                           15                       5  ...   \n",
              "4       9:55:18 AM                           13                       1  ...   \n",
              "\n",
              "  Pickup Lat  Pickup Long  Destination Lat Destination Long      Rider Id  \\\n",
              "0  -1.317755    36.830370        -1.300406        36.829741  Rider_Id_432   \n",
              "1  -1.351453    36.899315        -1.295004        36.814358  Rider_Id_856   \n",
              "2  -1.308284    36.843419        -1.300921        36.828195  Rider_Id_155   \n",
              "3  -1.281301    36.832396        -1.257147        36.795063  Rider_Id_855   \n",
              "4  -1.266597    36.792118        -1.295041        36.809817  Rider_Id_770   \n",
              "\n",
              "   Time from Pickup to Arrival No of Orders   Age  Average Rating  \\\n",
              "0                          745         1637  1309            13.8   \n",
              "1                         1993          396   339            13.6   \n",
              "2                          455         1023   242            12.5   \n",
              "3                         1341          886   283            14.5   \n",
              "4                         1214         2311   872            14.1   \n",
              "\n",
              "  No of Ratings  \n",
              "0           549  \n",
              "1            69  \n",
              "2           114  \n",
              "3           113  \n",
              "4           533  \n",
              "\n",
              "[5 rows x 33 columns]"
            ]
          },
          "metadata": {
            "tags": []
          },
          "execution_count": 8
        }
      ]
    },
    {
      "cell_type": "code",
      "metadata": {
        "id": "bgEnVVu5cRPu",
        "colab_type": "code",
        "colab": {},
        "outputId": "feee7555-f39b-4cce-e9ac-cdfad18b3a0d"
      },
      "source": [
        "test_data.head()"
      ],
      "execution_count": 0,
      "outputs": [
        {
          "output_type": "execute_result",
          "data": {
            "text/html": [
              "<div>\n",
              "<style scoped>\n",
              "    .dataframe tbody tr th:only-of-type {\n",
              "        vertical-align: middle;\n",
              "    }\n",
              "\n",
              "    .dataframe tbody tr th {\n",
              "        vertical-align: top;\n",
              "    }\n",
              "\n",
              "    .dataframe thead th {\n",
              "        text-align: right;\n",
              "    }\n",
              "</style>\n",
              "<table border=\"1\" class=\"dataframe\">\n",
              "  <thead>\n",
              "    <tr style=\"text-align: right;\">\n",
              "      <th></th>\n",
              "      <th>Order No</th>\n",
              "      <th>User Id</th>\n",
              "      <th>Vehicle Type</th>\n",
              "      <th>Platform Type</th>\n",
              "      <th>Personal or Business</th>\n",
              "      <th>Placement - Day of Month</th>\n",
              "      <th>Placement - Weekday</th>\n",
              "      <th>Placement - Time</th>\n",
              "      <th>Confirmation - Day of Month</th>\n",
              "      <th>Confirmation - Weekday</th>\n",
              "      <th>...</th>\n",
              "      <th>Precipitation in millimeters</th>\n",
              "      <th>Pickup Lat</th>\n",
              "      <th>Pickup Long</th>\n",
              "      <th>Destination Lat</th>\n",
              "      <th>Destination Long</th>\n",
              "      <th>Rider Id</th>\n",
              "      <th>No of Orders</th>\n",
              "      <th>Age</th>\n",
              "      <th>Average Rating</th>\n",
              "      <th>No of Ratings</th>\n",
              "    </tr>\n",
              "  </thead>\n",
              "  <tbody>\n",
              "    <tr>\n",
              "      <th>0</th>\n",
              "      <td>Order_No_19248</td>\n",
              "      <td>User_Id_3355</td>\n",
              "      <td>Bike</td>\n",
              "      <td>3</td>\n",
              "      <td>Business</td>\n",
              "      <td>27</td>\n",
              "      <td>3</td>\n",
              "      <td>4:44:10 PM</td>\n",
              "      <td>27</td>\n",
              "      <td>3</td>\n",
              "      <td>...</td>\n",
              "      <td>NaN</td>\n",
              "      <td>-1.333275</td>\n",
              "      <td>36.870815</td>\n",
              "      <td>-1.305249</td>\n",
              "      <td>36.822390</td>\n",
              "      <td>Rider_Id_192</td>\n",
              "      <td>439</td>\n",
              "      <td>1511</td>\n",
              "      <td>13.3</td>\n",
              "      <td>171</td>\n",
              "    </tr>\n",
              "    <tr>\n",
              "      <th>1</th>\n",
              "      <td>Order_No_12736</td>\n",
              "      <td>User_Id_3647</td>\n",
              "      <td>Bike</td>\n",
              "      <td>3</td>\n",
              "      <td>Business</td>\n",
              "      <td>17</td>\n",
              "      <td>5</td>\n",
              "      <td>12:57:35 PM</td>\n",
              "      <td>17</td>\n",
              "      <td>5</td>\n",
              "      <td>...</td>\n",
              "      <td>NaN</td>\n",
              "      <td>-1.272639</td>\n",
              "      <td>36.794723</td>\n",
              "      <td>-1.277007</td>\n",
              "      <td>36.823907</td>\n",
              "      <td>Rider_Id_868</td>\n",
              "      <td>488</td>\n",
              "      <td>273</td>\n",
              "      <td>14.4</td>\n",
              "      <td>45</td>\n",
              "    </tr>\n",
              "    <tr>\n",
              "      <th>2</th>\n",
              "      <td>Order_No_768</td>\n",
              "      <td>User_Id_2154</td>\n",
              "      <td>Bike</td>\n",
              "      <td>3</td>\n",
              "      <td>Business</td>\n",
              "      <td>27</td>\n",
              "      <td>4</td>\n",
              "      <td>11:08:14 AM</td>\n",
              "      <td>27</td>\n",
              "      <td>4</td>\n",
              "      <td>...</td>\n",
              "      <td>NaN</td>\n",
              "      <td>-1.290894</td>\n",
              "      <td>36.822971</td>\n",
              "      <td>-1.276574</td>\n",
              "      <td>36.851365</td>\n",
              "      <td>Rider_Id_26</td>\n",
              "      <td>833</td>\n",
              "      <td>460</td>\n",
              "      <td>13.1</td>\n",
              "      <td>67</td>\n",
              "    </tr>\n",
              "    <tr>\n",
              "      <th>3</th>\n",
              "      <td>Order_No_15332</td>\n",
              "      <td>User_Id_2910</td>\n",
              "      <td>Bike</td>\n",
              "      <td>3</td>\n",
              "      <td>Business</td>\n",
              "      <td>17</td>\n",
              "      <td>1</td>\n",
              "      <td>1:51:35 PM</td>\n",
              "      <td>17</td>\n",
              "      <td>1</td>\n",
              "      <td>...</td>\n",
              "      <td>NaN</td>\n",
              "      <td>-1.290503</td>\n",
              "      <td>36.809646</td>\n",
              "      <td>-1.303382</td>\n",
              "      <td>36.790658</td>\n",
              "      <td>Rider_Id_685</td>\n",
              "      <td>487</td>\n",
              "      <td>560</td>\n",
              "      <td>13.7</td>\n",
              "      <td>44</td>\n",
              "    </tr>\n",
              "    <tr>\n",
              "      <th>4</th>\n",
              "      <td>Order_No_21373</td>\n",
              "      <td>User_Id_1205</td>\n",
              "      <td>Bike</td>\n",
              "      <td>3</td>\n",
              "      <td>Business</td>\n",
              "      <td>11</td>\n",
              "      <td>2</td>\n",
              "      <td>11:30:28 AM</td>\n",
              "      <td>11</td>\n",
              "      <td>2</td>\n",
              "      <td>...</td>\n",
              "      <td>NaN</td>\n",
              "      <td>-1.281081</td>\n",
              "      <td>36.814423</td>\n",
              "      <td>-1.266467</td>\n",
              "      <td>36.792161</td>\n",
              "      <td>Rider_Id_858</td>\n",
              "      <td>4761</td>\n",
              "      <td>1120</td>\n",
              "      <td>14.1</td>\n",
              "      <td>1010</td>\n",
              "    </tr>\n",
              "  </tbody>\n",
              "</table>\n",
              "<p>5 rows × 29 columns</p>\n",
              "</div>"
            ],
            "text/plain": [
              "         Order No       User Id Vehicle Type  Platform Type  \\\n",
              "0  Order_No_19248  User_Id_3355         Bike              3   \n",
              "1  Order_No_12736  User_Id_3647         Bike              3   \n",
              "2    Order_No_768  User_Id_2154         Bike              3   \n",
              "3  Order_No_15332  User_Id_2910         Bike              3   \n",
              "4  Order_No_21373  User_Id_1205         Bike              3   \n",
              "\n",
              "  Personal or Business  Placement - Day of Month  Placement - Weekday  \\\n",
              "0             Business                        27                    3   \n",
              "1             Business                        17                    5   \n",
              "2             Business                        27                    4   \n",
              "3             Business                        17                    1   \n",
              "4             Business                        11                    2   \n",
              "\n",
              "  Placement - Time  Confirmation - Day of Month  Confirmation - Weekday  ...  \\\n",
              "0       4:44:10 PM                           27                       3  ...   \n",
              "1      12:57:35 PM                           17                       5  ...   \n",
              "2      11:08:14 AM                           27                       4  ...   \n",
              "3       1:51:35 PM                           17                       1  ...   \n",
              "4      11:30:28 AM                           11                       2  ...   \n",
              "\n",
              "  Precipitation in millimeters  Pickup Lat  Pickup Long Destination Lat  \\\n",
              "0                          NaN   -1.333275    36.870815       -1.305249   \n",
              "1                          NaN   -1.272639    36.794723       -1.277007   \n",
              "2                          NaN   -1.290894    36.822971       -1.276574   \n",
              "3                          NaN   -1.290503    36.809646       -1.303382   \n",
              "4                          NaN   -1.281081    36.814423       -1.266467   \n",
              "\n",
              "   Destination Long      Rider Id No of Orders   Age  Average Rating  \\\n",
              "0         36.822390  Rider_Id_192          439  1511            13.3   \n",
              "1         36.823907  Rider_Id_868          488   273            14.4   \n",
              "2         36.851365   Rider_Id_26          833   460            13.1   \n",
              "3         36.790658  Rider_Id_685          487   560            13.7   \n",
              "4         36.792161  Rider_Id_858         4761  1120            14.1   \n",
              "\n",
              "   No of Ratings  \n",
              "0            171  \n",
              "1             45  \n",
              "2             67  \n",
              "3             44  \n",
              "4           1010  \n",
              "\n",
              "[5 rows x 29 columns]"
            ]
          },
          "metadata": {
            "tags": []
          },
          "execution_count": 9
        }
      ]
    },
    {
      "cell_type": "markdown",
      "metadata": {
        "colab_type": "text",
        "id": "XeQLq1rQOZP0"
      },
      "source": [
        "### Missing Data"
      ]
    },
    {
      "cell_type": "code",
      "metadata": {
        "id": "inHWNOv7cRPx",
        "colab_type": "code",
        "colab": {},
        "outputId": "7752de90-c03b-44be-da29-033f78e862eb"
      },
      "source": [
        "# Check columns for missing values\n",
        "fig,axis = plt.subplots(ncols=2, figsize=(15, 5))\n",
        "sns.heatmap(train_data.isnull(),yticklabels=False,cbar=False,cmap='brg',ax=axis[0])\n",
        "sns.heatmap(test_data.isnull(),yticklabels=False,cbar=False,cmap='brg_r',ax=axis[1])\n",
        "axis[0].set_title('Missing Values in Training Set',fontsize=14)\n",
        "axis[1].set_title('Missing Values in Test Set',fontsize=14)\n",
        "plt.xticks(fontsize=12)\n",
        "plt.yticks(fontsize=12)\n",
        "plt.show()\n",
        "\n",
        "# Calculate percentage missing values\n",
        "train = round((train_data.isnull().sum()/train_data.isnull().count())*100,2)\n",
        "test = round((test_data.isnull().sum()/test_data.isnull().count())*100,2)\n",
        "d = {'% missing training data': train, '% missing testing data': test}\n",
        "pd.DataFrame(data=d).sort_values(by='% missing training data',ascending=False).head(2)"
      ],
      "execution_count": 0,
      "outputs": [
        {
          "output_type": "display_data",
          "data": {
            "image/png": "[encoded data removed]",
            "text/plain": [
              "<Figure size 1080x360 with 2 Axes>"
            ]
          },
          "metadata": {
            "tags": [],
            "needs_background": "light"
          }
        },
        {
          "output_type": "execute_result",
          "data": {
            "text/html": [
              "<div>\n",
              "<style scoped>\n",
              "    .dataframe tbody tr th:only-of-type {\n",
              "        vertical-align: middle;\n",
              "    }\n",
              "\n",
              "    .dataframe tbody tr th {\n",
              "        vertical-align: top;\n",
              "    }\n",
              "\n",
              "    .dataframe thead th {\n",
              "        text-align: right;\n",
              "    }\n",
              "</style>\n",
              "<table border=\"1\" class=\"dataframe\">\n",
              "  <thead>\n",
              "    <tr style=\"text-align: right;\">\n",
              "      <th></th>\n",
              "      <th>% missing training data</th>\n",
              "      <th>% missing testing data</th>\n",
              "    </tr>\n",
              "  </thead>\n",
              "  <tbody>\n",
              "    <tr>\n",
              "      <th>Precipitation in millimeters</th>\n",
              "      <td>97.40</td>\n",
              "      <td>97.18</td>\n",
              "    </tr>\n",
              "    <tr>\n",
              "      <th>Temperature</th>\n",
              "      <td>20.59</td>\n",
              "      <td>20.33</td>\n",
              "    </tr>\n",
              "  </tbody>\n",
              "</table>\n",
              "</div>"
            ],
            "text/plain": [
              "                              % missing training data  % missing testing data\n",
              "Precipitation in millimeters                    97.40                   97.18\n",
              "Temperature                                     20.59                   20.33"
            ]
          },
          "metadata": {
            "tags": []
          },
          "execution_count": 10
        }
      ]
    },
    {
      "cell_type": "markdown",
      "metadata": {
        "colab_type": "text",
        "id": "1ySZ4RhJUJay"
      },
      "source": [
        "* We can remove the 'Precipitation in millimeters' column, as 97% of the data is missing\n",
        "* We can impute missing values in the 'Temperature' column with the average temperature at the time the order was placed, as only 20% of the data is missing"
      ]
    },
    {
      "cell_type": "code",
      "metadata": {
        "colab_type": "code",
        "id": "po-tyjJgUNE_",
        "scrolled": true,
        "colab": {},
        "outputId": "d7ca1e13-e129-4715-823a-8ac1639c4a58"
      },
      "source": [
        "# Drop 'Precipitation in millimeters' column\n",
        "train_data.drop('Precipitation in millimeters',axis=1,inplace=True)\n",
        "test_data.drop('Precipitation in millimeters',axis=1,inplace=True)\n",
        "\n",
        "# Create 24h time bins for when orders were placed\n",
        "train_data['Placement - Time(bins)'] = pd.to_datetime(pd.to_datetime(train_data['Placement - Time']).dt.strftime('%H:%M:%S')).dt.strftime('%H')\n",
        "\n",
        "fig,axis = plt.subplots(figsize=(12,5))\n",
        "sns.boxplot(x='Placement - Time(bins)',y='Temperature',data=train_data,palette='CMRmap')\n",
        "plt.title('Distribution of Temperature (°C) at Different Times During the Day',fontsize=16)\n",
        "plt.xlabel('Time of Order Placement (Hour)',fontsize=12)\n",
        "plt.ylabel('Temperature (°C)',fontsize=12)\n",
        "plt.xticks(fontsize=12)\n",
        "plt.yticks(fontsize=12)\n",
        "plt.show()\n",
        "\n",
        "# Impute temperature for missing values\n",
        "train_data['Temperature'] = train_data['Temperature'].fillna(round(train_data.groupby('Placement - Time(bins)')['Temperature'].transform('mean'),1))\n",
        "test_data['Temperature'] = test_data['Temperature'].fillna(round(train_data.groupby('Placement - Time(bins)')['Temperature'].transform('mean'),1))"
      ],
      "execution_count": 0,
      "outputs": [
        {
          "output_type": "display_data",
          "data": {
            "image/png": "[encoded data removed]",
            "text/plain": [
              "<Figure size 864x360 with 1 Axes>"
            ]
          },
          "metadata": {
            "tags": [],
            "needs_background": "light"
          }
        }
      ]
    },
    {
      "cell_type": "markdown",
      "metadata": {
        "colab_type": "text",
        "id": "MnyJv6mdcRP2"
      },
      "source": [
        "### Remove Target Outliers"
      ]
    },
    {
      "cell_type": "markdown",
      "metadata": {
        "id": "5xWbUGiicRP3",
        "colab_type": "text"
      },
      "source": [
        "Assuming that, by law, the maximum travelling speed allowed is 120km/h, we can calculate the minimum travel time as:  \n",
        "\n",
        "$Time = \\frac{Distance}{Speed} =  \\frac{1km}{120km/h} = 30 {seconds/km} $\n",
        "\n",
        "We can therefore exclude outliers from 'Time from Pickup to Arrival' column based on the distance travelled:\n",
        "\n",
        "When Distance = 1 km (Exclude data if Time from Pickup to Arrival < 30 seconds)\n",
        "<br>\n",
        "When Distance = 2 km (Exclude data if Time from Pickup to Arrival < 60 seconds)\n",
        "<br>\n",
        "When Distance = 3 km (Exclude data if Time from Pickup to Arrival < 90 seconds)\n",
        "<br>\n",
        "...  \n",
        "etc."
      ]
    },
    {
      "cell_type": "code",
      "metadata": {
        "id": "PoaOsinncRP3",
        "colab_type": "code",
        "colab": {},
        "outputId": "b186026b-d8b8-4a34-b84f-9d9f10dcde48"
      },
      "source": [
        "#Identify outliers in target variable\n",
        "train_data['Not Outlier'] = (train_data['Distance (KM)']*30) < train_data['Time from Pickup to Arrival']\n",
        "print(\"There are \" + str(len(train_data[train_data['Not Outlier']==False])) + \" outliers in our target variable.\")"
      ],
      "execution_count": 0,
      "outputs": [
        {
          "output_type": "stream",
          "text": [
            "There are 876 outliers in our target variable.\n"
          ],
          "name": "stdout"
        }
      ]
    },
    {
      "cell_type": "code",
      "metadata": {
        "id": "qnXrJPwucRP5",
        "colab_type": "code",
        "colab": {},
        "outputId": "95c29d9e-6552-4523-fa8d-3c08746a9017"
      },
      "source": [
        "sns.lmplot(x='Time from Pickup to Arrival', y='Distance (KM)', data=train_data, hue='Not Outlier', palette='seismic_r', fit_reg=False)\n",
        "plt.show()"
      ],
      "execution_count": 0,
      "outputs": [
        {
          "output_type": "display_data",
          "data": {
            "image/png": "[encoded data removed]",
            "text/plain": [
              "<Figure size 420.625x360 with 1 Axes>"
            ]
          },
          "metadata": {
            "tags": [],
            "needs_background": "light"
          }
        }
      ]
    },
    {
      "cell_type": "code",
      "metadata": {
        "id": "XrV-waGvcRP8",
        "colab_type": "code",
        "colab": {},
        "outputId": "efc4f1b7-9324-4af9-d146-49730999063f"
      },
      "source": [
        "# Remove outliers\n",
        "new_train_data = train_data[train_data['Not Outlier'] == True]\n",
        "fig,axis = plt.subplots(ncols=2, figsize=(15, 5))\n",
        "sns.distplot(train_data['Time from Pickup to Arrival'],ax=axis[0],color='red')\n",
        "sns.distplot(new_train_data['Time from Pickup to Arrival'],ax=axis[1],color='blue')\n",
        "axis[0].set_title('Distribution of Target Variable Before Removing Outliers',fontsize=14)\n",
        "axis[1].set_title('Distribution of Target Variable After Removing Outliers',fontsize=14)\n",
        "axis[0].set_xlabel('Time from Pickup to Arrival',fontsize=12)\n",
        "axis[1].set_xlabel('Time from Pickup to Arrival',fontsize=12)\n",
        "plt.xticks(fontsize=12)\n",
        "plt.yticks(fontsize=12)\n",
        "plt.show()\n",
        "\n",
        "# Remove outlier column\n",
        "train_data = train_data[train_data['Not Outlier'] == True]\n",
        "train_data = train_data.drop(['Not Outlier'],axis=1)"
      ],
      "execution_count": 0,
      "outputs": [
        {
          "output_type": "display_data",
          "data": {
            "image/png": "[encoded data removed]",
            "text/plain": [
              "<Figure size 1080x360 with 2 Axes>"
            ]
          },
          "metadata": {
            "tags": [],
            "needs_background": "light"
          }
        }
      ]
    },
    {
      "cell_type": "markdown",
      "metadata": {
        "colab_type": "text",
        "id": "-cs2-DCacRP-"
      },
      "source": [
        "<a id=\"EDA\"></a>\n",
        "## 4. Exploratory Data Analysis"
      ]
    },
    {
      "cell_type": "markdown",
      "metadata": {
        "colab_type": "text",
        "id": "ZzK6Gm67OZDr"
      },
      "source": [
        "### Data Summary Statistics"
      ]
    },
    {
      "cell_type": "code",
      "metadata": {
        "colab_type": "code",
        "id": "qO8ewu1XS_bL",
        "outputId": "25ecfb56-1ebc-48d6-f156-c86fda78ae6f",
        "colab": {
          "base_uri": "https://localhost:8080/",
          "height": 678
        }
      },
      "source": [
        "train_data.info()"
      ],
      "execution_count": 0,
      "outputs": [
        {
          "output_type": "stream",
          "text": [
            "<class 'pandas.core.frame.DataFrame'>\n",
            "Int64Index: 20325 entries, 0 to 21200\n",
            "Data columns (total 33 columns):\n",
            " #   Column                                 Non-Null Count  Dtype  \n",
            "---  ------                                 --------------  -----  \n",
            " 0   Order No                               20325 non-null  object \n",
            " 1   User Id                                20325 non-null  object \n",
            " 2   Vehicle Type                           20325 non-null  object \n",
            " 3   Platform Type                          20325 non-null  int64  \n",
            " 4   Personal or Business                   20325 non-null  object \n",
            " 5   Placement - Day of Month               20325 non-null  int64  \n",
            " 6   Placement - Weekday                    20325 non-null  int64  \n",
            " 7   Placement - Time                       20325 non-null  object \n",
            " 8   Confirmation - Day of Month            20325 non-null  int64  \n",
            " 9   Confirmation - Weekday                 20325 non-null  int64  \n",
            " 10  Confirmation - Time                    20325 non-null  object \n",
            " 11  Arrival at Pickup - Day of Month       20325 non-null  int64  \n",
            " 12  Arrival at Pickup - Weekday            20325 non-null  int64  \n",
            " 13  Arrival at Pickup - Time               20325 non-null  object \n",
            " 14  Pickup - Day of Month                  20325 non-null  int64  \n",
            " 15  Pickup - Weekday                       20325 non-null  int64  \n",
            " 16  Pickup - Time                          20325 non-null  object \n",
            " 17  Arrival at Destination - Day of Month  20325 non-null  int64  \n",
            " 18  Arrival at Destination - Weekday       20325 non-null  int64  \n",
            " 19  Arrival at Destination - Time          20325 non-null  object \n",
            " 20  Distance (KM)                          20325 non-null  int64  \n",
            " 21  Temperature                            20325 non-null  float64\n",
            " 22  Pickup Lat                             20325 non-null  float64\n",
            " 23  Pickup Long                            20325 non-null  float64\n",
            " 24  Destination Lat                        20325 non-null  float64\n",
            " 25  Destination Long                       20325 non-null  float64\n",
            " 26  Rider Id                               20325 non-null  object \n",
            " 27  Time from Pickup to Arrival            20325 non-null  int64  \n",
            " 28  No of Orders                           20325 non-null  int64  \n",
            " 29  Age                                    20325 non-null  int64  \n",
            " 30  Average Rating                         20325 non-null  float64\n",
            " 31  No of Ratings                          20325 non-null  int64  \n",
            " 32  Placement - Time(bins)                 20325 non-null  object \n",
            "dtypes: float64(6), int64(16), object(11)\n",
            "memory usage: 5.3+ MB\n"
          ],
          "name": "stdout"
        }
      ]
    },
    {
      "cell_type": "code",
      "metadata": {
        "colab_type": "code",
        "id": "MKdZLBw4TLw_",
        "outputId": "2fdd3ad7-fcd7-4547-f6e0-a4399772e1ef",
        "colab": {
          "base_uri": "https://localhost:8080/",
          "height": 372
        }
      },
      "source": [
        "train_data.describe()"
      ],
      "execution_count": 0,
      "outputs": [
        {
          "output_type": "execute_result",
          "data": {
            "text/html": [
              "<div>\n",
              "<style scoped>\n",
              "    .dataframe tbody tr th:only-of-type {\n",
              "        vertical-align: middle;\n",
              "    }\n",
              "\n",
              "    .dataframe tbody tr th {\n",
              "        vertical-align: top;\n",
              "    }\n",
              "\n",
              "    .dataframe thead th {\n",
              "        text-align: right;\n",
              "    }\n",
              "</style>\n",
              "<table border=\"1\" class=\"dataframe\">\n",
              "  <thead>\n",
              "    <tr style=\"text-align: right;\">\n",
              "      <th></th>\n",
              "      <th>Platform Type</th>\n",
              "      <th>Placement - Day of Month</th>\n",
              "      <th>Placement - Weekday</th>\n",
              "      <th>Confirmation - Day of Month</th>\n",
              "      <th>Confirmation - Weekday</th>\n",
              "      <th>Arrival at Pickup - Day of Month</th>\n",
              "      <th>Arrival at Pickup - Weekday</th>\n",
              "      <th>Pickup - Day of Month</th>\n",
              "      <th>Pickup - Weekday</th>\n",
              "      <th>Arrival at Destination - Day of Month</th>\n",
              "      <th>...</th>\n",
              "      <th>Temperature</th>\n",
              "      <th>Pickup Lat</th>\n",
              "      <th>Pickup Long</th>\n",
              "      <th>Destination Lat</th>\n",
              "      <th>Destination Long</th>\n",
              "      <th>Time from Pickup to Arrival</th>\n",
              "      <th>No of Orders</th>\n",
              "      <th>Age</th>\n",
              "      <th>Average Rating</th>\n",
              "      <th>No of Ratings</th>\n",
              "    </tr>\n",
              "  </thead>\n",
              "  <tbody>\n",
              "    <tr>\n",
              "      <th>count</th>\n",
              "      <td>20325.000000</td>\n",
              "      <td>20325.000000</td>\n",
              "      <td>20325.000000</td>\n",
              "      <td>20325.000000</td>\n",
              "      <td>20325.000000</td>\n",
              "      <td>20325.000000</td>\n",
              "      <td>20325.000000</td>\n",
              "      <td>20325.000000</td>\n",
              "      <td>20325.000000</td>\n",
              "      <td>20325.000000</td>\n",
              "      <td>...</td>\n",
              "      <td>20325.000000</td>\n",
              "      <td>20325.000000</td>\n",
              "      <td>20325.000000</td>\n",
              "      <td>20325.000000</td>\n",
              "      <td>20325.000000</td>\n",
              "      <td>20325.000000</td>\n",
              "      <td>20325.000000</td>\n",
              "      <td>20325.000000</td>\n",
              "      <td>20325.000000</td>\n",
              "      <td>20325.000000</td>\n",
              "    </tr>\n",
              "    <tr>\n",
              "      <th>mean</th>\n",
              "      <td>2.743469</td>\n",
              "      <td>15.645166</td>\n",
              "      <td>3.241328</td>\n",
              "      <td>15.645314</td>\n",
              "      <td>3.241476</td>\n",
              "      <td>15.645314</td>\n",
              "      <td>3.241476</td>\n",
              "      <td>15.645314</td>\n",
              "      <td>3.241476</td>\n",
              "      <td>15.645314</td>\n",
              "      <td>...</td>\n",
              "      <td>23.212905</td>\n",
              "      <td>-1.281244</td>\n",
              "      <td>36.811072</td>\n",
              "      <td>-1.282611</td>\n",
              "      <td>36.811317</td>\n",
              "      <td>1622.426863</td>\n",
              "      <td>1644.402952</td>\n",
              "      <td>973.002214</td>\n",
              "      <td>13.893009</td>\n",
              "      <td>340.341205</td>\n",
              "    </tr>\n",
              "    <tr>\n",
              "      <th>std</th>\n",
              "      <td>0.634275</td>\n",
              "      <td>8.792534</td>\n",
              "      <td>1.568850</td>\n",
              "      <td>8.792503</td>\n",
              "      <td>1.568781</td>\n",
              "      <td>8.792503</td>\n",
              "      <td>1.568781</td>\n",
              "      <td>8.792503</td>\n",
              "      <td>1.568781</td>\n",
              "      <td>8.792503</td>\n",
              "      <td>...</td>\n",
              "      <td>3.358326</td>\n",
              "      <td>0.030601</td>\n",
              "      <td>0.037749</td>\n",
              "      <td>0.035076</td>\n",
              "      <td>0.045017</td>\n",
              "      <td>955.300283</td>\n",
              "      <td>1504.827591</td>\n",
              "      <td>636.908788</td>\n",
              "      <td>0.907283</td>\n",
              "      <td>403.908905</td>\n",
              "    </tr>\n",
              "    <tr>\n",
              "      <th>min</th>\n",
              "      <td>1.000000</td>\n",
              "      <td>1.000000</td>\n",
              "      <td>1.000000</td>\n",
              "      <td>1.000000</td>\n",
              "      <td>1.000000</td>\n",
              "      <td>1.000000</td>\n",
              "      <td>1.000000</td>\n",
              "      <td>1.000000</td>\n",
              "      <td>1.000000</td>\n",
              "      <td>1.000000</td>\n",
              "      <td>...</td>\n",
              "      <td>11.200000</td>\n",
              "      <td>-1.438302</td>\n",
              "      <td>36.653621</td>\n",
              "      <td>-1.430298</td>\n",
              "      <td>36.606594</td>\n",
              "      <td>34.000000</td>\n",
              "      <td>2.000000</td>\n",
              "      <td>96.000000</td>\n",
              "      <td>0.000000</td>\n",
              "      <td>0.000000</td>\n",
              "    </tr>\n",
              "    <tr>\n",
              "      <th>25%</th>\n",
              "      <td>3.000000</td>\n",
              "      <td>8.000000</td>\n",
              "      <td>2.000000</td>\n",
              "      <td>8.000000</td>\n",
              "      <td>2.000000</td>\n",
              "      <td>8.000000</td>\n",
              "      <td>2.000000</td>\n",
              "      <td>8.000000</td>\n",
              "      <td>2.000000</td>\n",
              "      <td>8.000000</td>\n",
              "      <td>...</td>\n",
              "      <td>20.800000</td>\n",
              "      <td>-1.300921</td>\n",
              "      <td>36.783473</td>\n",
              "      <td>-1.301446</td>\n",
              "      <td>36.785618</td>\n",
              "      <td>939.000000</td>\n",
              "      <td>557.000000</td>\n",
              "      <td>495.000000</td>\n",
              "      <td>13.700000</td>\n",
              "      <td>60.000000</td>\n",
              "    </tr>\n",
              "    <tr>\n",
              "      <th>50%</th>\n",
              "      <td>3.000000</td>\n",
              "      <td>15.000000</td>\n",
              "      <td>3.000000</td>\n",
              "      <td>15.000000</td>\n",
              "      <td>3.000000</td>\n",
              "      <td>15.000000</td>\n",
              "      <td>3.000000</td>\n",
              "      <td>15.000000</td>\n",
              "      <td>3.000000</td>\n",
              "      <td>15.000000</td>\n",
              "      <td>...</td>\n",
              "      <td>23.500000</td>\n",
              "      <td>-1.279395</td>\n",
              "      <td>36.806509</td>\n",
              "      <td>-1.284575</td>\n",
              "      <td>36.808002</td>\n",
              "      <td>1412.000000</td>\n",
              "      <td>1209.000000</td>\n",
              "      <td>872.000000</td>\n",
              "      <td>14.000000</td>\n",
              "      <td>158.000000</td>\n",
              "    </tr>\n",
              "    <tr>\n",
              "      <th>75%</th>\n",
              "      <td>3.000000</td>\n",
              "      <td>23.000000</td>\n",
              "      <td>5.000000</td>\n",
              "      <td>23.000000</td>\n",
              "      <td>5.000000</td>\n",
              "      <td>23.000000</td>\n",
              "      <td>5.000000</td>\n",
              "      <td>23.000000</td>\n",
              "      <td>5.000000</td>\n",
              "      <td>23.000000</td>\n",
              "      <td>...</td>\n",
              "      <td>25.400000</td>\n",
              "      <td>-1.257147</td>\n",
              "      <td>36.828477</td>\n",
              "      <td>-1.261007</td>\n",
              "      <td>36.829263</td>\n",
              "      <td>2077.000000</td>\n",
              "      <td>2273.000000</td>\n",
              "      <td>1218.000000</td>\n",
              "      <td>14.300000</td>\n",
              "      <td>504.000000</td>\n",
              "    </tr>\n",
              "    <tr>\n",
              "      <th>max</th>\n",
              "      <td>4.000000</td>\n",
              "      <td>31.000000</td>\n",
              "      <td>7.000000</td>\n",
              "      <td>31.000000</td>\n",
              "      <td>7.000000</td>\n",
              "      <td>31.000000</td>\n",
              "      <td>7.000000</td>\n",
              "      <td>31.000000</td>\n",
              "      <td>7.000000</td>\n",
              "      <td>31.000000</td>\n",
              "      <td>...</td>\n",
              "      <td>32.100000</td>\n",
              "      <td>-1.147170</td>\n",
              "      <td>36.991046</td>\n",
              "      <td>-1.030225</td>\n",
              "      <td>37.016779</td>\n",
              "      <td>7883.000000</td>\n",
              "      <td>9756.000000</td>\n",
              "      <td>3764.000000</td>\n",
              "      <td>15.200000</td>\n",
              "      <td>2298.000000</td>\n",
              "    </tr>\n",
              "  </tbody>\n",
              "</table>\n",
              "<p>8 rows × 22 columns</p>\n",
              "</div>"
            ],
            "text/plain": [
              "       Platform Type  Placement - Day of Month  Placement - Weekday  \\\n",
              "count   20325.000000              20325.000000         20325.000000   \n",
              "mean        2.743469                 15.645166             3.241328   \n",
              "std         0.634275                  8.792534             1.568850   \n",
              "min         1.000000                  1.000000             1.000000   \n",
              "25%         3.000000                  8.000000             2.000000   \n",
              "50%         3.000000                 15.000000             3.000000   \n",
              "75%         3.000000                 23.000000             5.000000   \n",
              "max         4.000000                 31.000000             7.000000   \n",
              "\n",
              "       Confirmation - Day of Month  Confirmation - Weekday  \\\n",
              "count                 20325.000000            20325.000000   \n",
              "mean                     15.645314                3.241476   \n",
              "std                       8.792503                1.568781   \n",
              "min                       1.000000                1.000000   \n",
              "25%                       8.000000                2.000000   \n",
              "50%                      15.000000                3.000000   \n",
              "75%                      23.000000                5.000000   \n",
              "max                      31.000000                7.000000   \n",
              "\n",
              "       Arrival at Pickup - Day of Month  Arrival at Pickup - Weekday  \\\n",
              "count                      20325.000000                 20325.000000   \n",
              "mean                          15.645314                     3.241476   \n",
              "std                            8.792503                     1.568781   \n",
              "min                            1.000000                     1.000000   \n",
              "25%                            8.000000                     2.000000   \n",
              "50%                           15.000000                     3.000000   \n",
              "75%                           23.000000                     5.000000   \n",
              "max                           31.000000                     7.000000   \n",
              "\n",
              "       Pickup - Day of Month  Pickup - Weekday  \\\n",
              "count           20325.000000      20325.000000   \n",
              "mean               15.645314          3.241476   \n",
              "std                 8.792503          1.568781   \n",
              "min                 1.000000          1.000000   \n",
              "25%                 8.000000          2.000000   \n",
              "50%                15.000000          3.000000   \n",
              "75%                23.000000          5.000000   \n",
              "max                31.000000          7.000000   \n",
              "\n",
              "       Arrival at Destination - Day of Month  ...   Temperature    Pickup Lat  \\\n",
              "count                           20325.000000  ...  20325.000000  20325.000000   \n",
              "mean                               15.645314  ...     23.212905     -1.281244   \n",
              "std                                 8.792503  ...      3.358326      0.030601   \n",
              "min                                 1.000000  ...     11.200000     -1.438302   \n",
              "25%                                 8.000000  ...     20.800000     -1.300921   \n",
              "50%                                15.000000  ...     23.500000     -1.279395   \n",
              "75%                                23.000000  ...     25.400000     -1.257147   \n",
              "max                                31.000000  ...     32.100000     -1.147170   \n",
              "\n",
              "        Pickup Long  Destination Lat  Destination Long  \\\n",
              "count  20325.000000     20325.000000      20325.000000   \n",
              "mean      36.811072        -1.282611         36.811317   \n",
              "std        0.037749         0.035076          0.045017   \n",
              "min       36.653621        -1.430298         36.606594   \n",
              "25%       36.783473        -1.301446         36.785618   \n",
              "50%       36.806509        -1.284575         36.808002   \n",
              "75%       36.828477        -1.261007         36.829263   \n",
              "max       36.991046        -1.030225         37.016779   \n",
              "\n",
              "       Time from Pickup to Arrival  No of Orders           Age  \\\n",
              "count                 20325.000000  20325.000000  20325.000000   \n",
              "mean                   1622.426863   1644.402952    973.002214   \n",
              "std                     955.300283   1504.827591    636.908788   \n",
              "min                      34.000000      2.000000     96.000000   \n",
              "25%                     939.000000    557.000000    495.000000   \n",
              "50%                    1412.000000   1209.000000    872.000000   \n",
              "75%                    2077.000000   2273.000000   1218.000000   \n",
              "max                    7883.000000   9756.000000   3764.000000   \n",
              "\n",
              "       Average Rating  No of Ratings  \n",
              "count    20325.000000   20325.000000  \n",
              "mean        13.893009     340.341205  \n",
              "std          0.907283     403.908905  \n",
              "min          0.000000       0.000000  \n",
              "25%         13.700000      60.000000  \n",
              "50%         14.000000     158.000000  \n",
              "75%         14.300000     504.000000  \n",
              "max         15.200000    2298.000000  \n",
              "\n",
              "[8 rows x 22 columns]"
            ]
          },
          "metadata": {
            "tags": []
          },
          "execution_count": 16
        }
      ]
    },
    {
      "cell_type": "markdown",
      "metadata": {
        "colab_type": "text",
        "id": "ED_Yut8kOZbg"
      },
      "source": [
        "### Univariate Analysis and Visualisation"
      ]
    },
    {
      "cell_type": "markdown",
      "metadata": {
        "id": "_PnbfThXcRQI",
        "colab_type": "text"
      },
      "source": [
        "In this section we will analyze and visualise data that involves a single variable:  \n",
        "* Platform Type\n",
        "* Customer Type (Personal or Business)\n",
        "* Orders and Deliveries Per Day of the Month\n",
        "* Orders and Deliveries Per Day of the Week\n",
        "* Distance From Pickup to Destination"
      ]
    },
    {
      "cell_type": "code",
      "metadata": {
        "id": "dFpGa-jpcRQJ",
        "colab_type": "code",
        "colab": {},
        "outputId": "60fc6ade-03e0-46f7-909b-898df8b5572f"
      },
      "source": [
        "# Platform Type\n",
        "fig,axis = plt.subplots(figsize=(8, 5))\n",
        "ax_PT = sns.countplot(x='Platform Type',data=train_data,palette='CMRmap')\n",
        "plt.title('Number of Orders Per Platform Type',fontsize=14)\n",
        "plt.xlabel('Platform Type',fontsize=12)\n",
        "plt.ylabel('Number of Orders',fontsize=12)\n",
        "plt.xticks(fontsize=12)\n",
        "plt.yticks(fontsize=12)\n",
        "for p in ax_PT.patches:\n",
        "    ax_PT.text(p.get_x() + p.get_width()/2., p.get_height(), '%d' % int(p.get_height()), fontsize=12, ha='center', va='bottom')\n",
        "plt.show()"
      ],
      "execution_count": 0,
      "outputs": [
        {
          "output_type": "display_data",
          "data": {
            "image/png": "[encoded data removed]",
            "text/plain": [
              "<Figure size 576x360 with 1 Axes>"
            ]
          },
          "metadata": {
            "tags": [],
            "needs_background": "light"
          }
        }
      ]
    },
    {
      "cell_type": "code",
      "metadata": {
        "colab_type": "code",
        "id": "GbuMM4RBVDVl",
        "outputId": "44561134-189b-4ea1-ae69-2327f4b19285",
        "colab": {
          "base_uri": "https://localhost:8080/",
          "height": 357
        }
      },
      "source": [
        "# Customer Type (Personal or Business)\n",
        "fig,axis = plt.subplots(figsize=(8, 5))\n",
        "ax_CT = sns.countplot(x='Personal or Business',data=train_data,palette='CMRmap')\n",
        "plt.title('Number of Orders Per Customer Type',fontsize=14)\n",
        "plt.xlabel('Customer Type',fontsize=12)\n",
        "plt.ylabel('Number of Orders',fontsize=12)\n",
        "plt.xticks(fontsize=12)\n",
        "plt.yticks(fontsize=12)\n",
        "for p in ax_CT.patches:\n",
        "    ax_CT.text(p.get_x() + p.get_width()/2., p.get_height(), '%d' % int(p.get_height()), fontsize=12, ha='center', va='bottom')\n",
        "plt.show()"
      ],
      "execution_count": 0,
      "outputs": [
        {
          "output_type": "display_data",
          "data": {
            "image/png": "[encoded data removed]",
            "text/plain": [
              "<Figure size 576x360 with 1 Axes>"
            ]
          },
          "metadata": {
            "tags": [],
            "needs_background": "light"
          }
        }
      ]
    },
    {
      "cell_type": "code",
      "metadata": {
        "colab_type": "code",
        "id": "9ltI0-4YVC7k",
        "outputId": "37f628af-592b-473f-b3a8-77319f17fbbb",
        "colab": {
          "base_uri": "https://localhost:8080/",
          "height": 340
        }
      },
      "source": [
        "# Orders and Deliveries per day of the month\n",
        "fig,axis = plt.subplots(ncols=2, figsize=(15, 5))\n",
        "sns.countplot(x='Placement - Day of Month',data=train_data,palette='plasma',ax=axis[0])\n",
        "sns.countplot(x='Pickup - Day of Month',data=train_data,palette='plasma',ax=axis[1])\n",
        "axis[0].set_title('Number of Orders Per Day of the Month',fontsize=14)\n",
        "axis[1].set_title('Number of Deliveries Per Day of the Month',fontsize=14)\n",
        "axis[0].set_xlabel('Day of Month Order Was Placed',fontsize=12)\n",
        "axis[1].set_xlabel('Day of Month Order Was Picked Up For Delivery',fontsize=12)\n",
        "axis[0].set_ylabel('Number of Orders',fontsize=12)\n",
        "axis[1].set_ylabel('Number of Deliveries',fontsize=12)\n",
        "plt.xticks(fontsize=12)\n",
        "plt.yticks(fontsize=12)\n",
        "plt.show()"
      ],
      "execution_count": 0,
      "outputs": [
        {
          "output_type": "display_data",
          "data": {
            "image/png": "[encoded data removed]",
            "text/plain": [
              "<Figure size 1080x360 with 2 Axes>"
            ]
          },
          "metadata": {
            "tags": [],
            "needs_background": "light"
          }
        }
      ]
    },
    {
      "cell_type": "markdown",
      "metadata": {
        "id": "54pIbsp9cRQR",
        "colab_type": "text"
      },
      "source": [
        "'Day of Month' is a cyclical feature and can be converted to a more appropriate format during feature engineering, prior to building our model."
      ]
    },
    {
      "cell_type": "code",
      "metadata": {
        "id": "DNFGkDyycRQR",
        "colab_type": "code",
        "colab": {},
        "outputId": "fec8cfdf-f9c8-433c-af79-7591d6ea2da5"
      },
      "source": [
        "# Orders and Deliveries per day of the week\n",
        "fig,axis = plt.subplots(ncols=2, figsize=(15, 5))\n",
        "sns.countplot(x='Placement - Weekday',data=train_data,palette='plasma',ax=axis[0])\n",
        "sns.countplot(x='Pickup - Weekday',data=train_data,palette='plasma',ax=axis[1])\n",
        "axis[0].set_title('Number of Orders Per Day of the Week',fontsize=14)\n",
        "axis[1].set_title('Number of Deliveries Per Day of the Week',fontsize=14)\n",
        "axis[0].set_xlabel('Day of Week Order Was Placed',fontsize=12)\n",
        "axis[1].set_xlabel('Day of Week Order Was Picked Up For Delivery',fontsize=12)\n",
        "axis[0].set_ylabel('Number of Orders',fontsize=12)\n",
        "axis[1].set_ylabel('Number of Deliveries',fontsize=12)\n",
        "plt.xticks(fontsize=12)\n",
        "plt.yticks(fontsize=12)\n",
        "plt.show()"
      ],
      "execution_count": 0,
      "outputs": [
        {
          "output_type": "display_data",
          "data": {
            "image/png": "[encoded data removed]",
            "text/plain": [
              "<Figure size 1080x360 with 2 Axes>"
            ]
          },
          "metadata": {
            "tags": [],
            "needs_background": "light"
          }
        }
      ]
    },
    {
      "cell_type": "markdown",
      "metadata": {
        "id": "B2a3Z4aYcRQU",
        "colab_type": "text"
      },
      "source": [
        "'Weekday' is a cyclical feature and can be converted to a more appropriate format during feature engineering, prior to building our model."
      ]
    },
    {
      "cell_type": "code",
      "metadata": {
        "id": "1tHbN9ehcRQV",
        "colab_type": "code",
        "colab": {},
        "outputId": "6e2f6b97-4de7-4e73-e5e7-eb3db20efa60"
      },
      "source": [
        "# Distribution of distance from pickup to destination\n",
        "fig,axis = plt.subplots(figsize=(8, 5))\n",
        "sns.distplot(train_data['Distance (KM)'],bins=25,color='purple')\n",
        "plt.title('Distribution of Distance (KM) From Pickup to Destination',fontsize=14)\n",
        "plt.xlabel('Distance (KM)',fontsize=12)\n",
        "plt.ylabel('Frequency',fontsize=12)\n",
        "plt.xticks(fontsize=12)\n",
        "plt.yticks(fontsize=12)\n",
        "plt.show()"
      ],
      "execution_count": 0,
      "outputs": [
        {
          "output_type": "display_data",
          "data": {
            "image/png": "[encoded data removed]",
            "text/plain": [
              "<Figure size 576x360 with 1 Axes>"
            ]
          },
          "metadata": {
            "tags": [],
            "needs_background": "light"
          }
        }
      ]
    },
    {
      "cell_type": "markdown",
      "metadata": {
        "colab_type": "text",
        "id": "T4q9smI4cRQX"
      },
      "source": [
        "### Bivariate Analysis and Visualisation"
      ]
    },
    {
      "cell_type": "markdown",
      "metadata": {
        "id": "0OOn8HSqcRQY",
        "colab_type": "text"
      },
      "source": [
        "In this section we will analyze and visualise data that involves two variables:\n",
        "* Distance vs. Delivery Duration\n",
        "* Average Delivery Duration Per Day of the Month\n",
        "* Average Delivery Duration Per Day of the Week\n",
        "* Average Delivery Duration Per Platform Type\n",
        "* Average Delivery Duration Per Customer Type\n",
        "* Average Distance Per Day of the Month\n",
        "* Average Distance Per Day of the Week\n",
        "* Average Distance Per Platform Type\n",
        "* Average Distance Per Customer Type"
      ]
    },
    {
      "cell_type": "code",
      "metadata": {
        "colab_type": "code",
        "id": "3EtkoJyVOsbt",
        "colab": {}
      },
      "source": [
        "# Correlation of numerical variables & target variable\n",
        "# train_numerical = train_data[['Distance (KM)','Temperature','Pickup Lat','Pickup Long','Destination Lat','Destination Long','No_Of_Orders','Age','Average_Rating','No_of_Ratings','Time from Pickup to Arrival']]\n",
        "# cmatrix = train_numerical.corr()\n",
        "# sns.heatmap(cmatrix, square=True, cmap='BuPu')\n",
        "# plt.xticks(fontsize=12)\n",
        "# plt.yticks(fontsize=12)\n",
        "# plt.show()"
      ],
      "execution_count": 0,
      "outputs": []
    },
    {
      "cell_type": "code",
      "metadata": {
        "colab_type": "code",
        "id": "x_x3Dy7CVH_Q",
        "colab": {}
      },
      "source": [
        "# fig,axis = plt.subplots(figsize=(12,5))\n",
        "# sns.distplot(train_data['Time from Pickup to Arrival'],color='purple')\n",
        "# plt.title('Distribution of Time From Pickup to Arrival',fontsize=14)\n",
        "# plt.xlabel('Time From Pickup to Arrival',fontsize=12)\n",
        "# plt.ylabel('Count',fontsize=12)\n",
        "# plt.xticks(fontsize=12)\n",
        "# plt.yticks(fontsize=12)\n",
        "# plt.show()"
      ],
      "execution_count": 0,
      "outputs": []
    },
    {
      "cell_type": "code",
      "metadata": {
        "colab_type": "code",
        "id": "lIVL09xQOs2f",
        "scrolled": true,
        "colab": {}
      },
      "source": [
        "# sns.catplot(x='Platform Type', y='Time from Pickup to Arrival',data=train_data.sort_values('Platform Type'),kind='box',height=5,aspect=2,palette='nipy_spectral')\n",
        "# plt.title('Distribution of Time from Pickup to Arrival Per Platform Type',fontsize=14)\n",
        "# plt.xlabel('Platform Type',fontsize=12)\n",
        "# plt.ylabel('Time from Pickup to Arrival',fontsize=12)\n",
        "# plt.xticks(fontsize=12)\n",
        "# plt.yticks(fontsize=12)\n",
        "# plt.show()"
      ],
      "execution_count": 0,
      "outputs": []
    },
    {
      "cell_type": "code",
      "metadata": {
        "id": "gXGCb9UHcRQg",
        "colab_type": "code",
        "colab": {}
      },
      "source": [
        "# pd.DataFrame(cmatrix['Time from Pickup to Arrival'].abs().sort_values(ascending=False))"
      ],
      "execution_count": 0,
      "outputs": []
    },
    {
      "cell_type": "markdown",
      "metadata": {
        "colab_type": "text",
        "id": "z6jONYzo2Fx2"
      },
      "source": [
        "<a id=\"preprocessing\"></a>\n",
        "## 5. Data Preprocessing"
      ]
    },
    {
      "cell_type": "markdown",
      "metadata": {
        "id": "oUVfkVYLcRQj",
        "colab_type": "text"
      },
      "source": [
        "### Feature Engineering"
      ]
    },
    {
      "cell_type": "code",
      "metadata": {
        "id": "OCMXkPyGcRQk",
        "colab_type": "code",
        "colab": {}
      },
      "source": [
        "# Convert day of month features to cyclical format\n",
        "\n",
        "# Convert weekday features to cyclical format\n",
        "\n",
        "# Convert time features to cyclical format"
      ],
      "execution_count": 0,
      "outputs": []
    },
    {
      "cell_type": "code",
      "metadata": {
        "id": "HUfG9PDQcRQn",
        "colab_type": "code",
        "colab": {}
      },
      "source": [
        "# Convert coordinates with geohashing"
      ],
      "execution_count": 0,
      "outputs": []
    },
    {
      "cell_type": "code",
      "metadata": {
        "id": "8TbPRXdlcRQp",
        "colab_type": "code",
        "colab": {}
      },
      "source": [
        "# Rank riders by weighted rating value and efficiency"
      ],
      "execution_count": 0,
      "outputs": []
    },
    {
      "cell_type": "markdown",
      "metadata": {
        "id": "6TX00keZcRQr",
        "colab_type": "text"
      },
      "source": [
        "### Encoding Categorical Data"
      ]
    },
    {
      "cell_type": "code",
      "metadata": {
        "id": "8KEu8u3gcRQs",
        "colab_type": "code",
        "colab": {}
      },
      "source": [
        "#Function to calculate number of time in seconds (from midnight)\n",
        "def time_in_seconds_train(column):\n",
        "    train_data[column] = pd.to_datetime(train_data[column])\n",
        "    return (train_data[column] - pd.to_datetime(pd.to_datetime('today').date())).astype('timedelta64[s]')\n",
        "\n",
        "#Converting time in dataset\n",
        "train_data['Placement - Time'] = time_in_seconds_train('Placement - Time')\n",
        "train_data['Confirmation - Time'] = time_in_seconds_train('Confirmation - Time')\n",
        "train_data['Pickup - Time'] = time_in_seconds_train('Pickup - Time')\n",
        "train_data['Arrival at_Pickup - Time'] = time_in_seconds_train('Arrival at Pickup - Time')\n",
        "train_data['Arrival at Destination - Time'] = time_in_seconds_train('Arrival at Destination - Time')"
      ],
      "execution_count": 0,
      "outputs": []
    },
    {
      "cell_type": "code",
      "metadata": {
        "colab_type": "code",
        "id": "UaTkXgUVARBF",
        "outputId": "b3ad1f4d-04eb-4c82-d635-b0d44107bde4",
        "colab": {
          "base_uri": "https://localhost:8080/",
          "height": 219
        }
      },
      "source": [
        "# Check how many unique items are in each column of indepedent variables\n",
        "for col_name in train_data.columns:\n",
        "    if train_data[col_name].dtypes=='object':\n",
        "        unique_out = len(train_data[col_name].unique())\n",
        "        print(f\"Feature '{col_name}' has {unique_out} unique catergories\")"
      ],
      "execution_count": 0,
      "outputs": [
        {
          "output_type": "stream",
          "text": [
            "Feature 'Order No' has 20325 unique catergories\n",
            "Feature 'User Id' has 3172 unique catergories\n",
            "Feature 'Vehicle Type' has 1 unique catergories\n",
            "Feature 'Personal or Business' has 2 unique catergories\n",
            "Feature 'Rider Id' has 921 unique catergories\n",
            "Feature 'Placement - Time(bins)' has 17 unique catergories\n"
          ],
          "name": "stdout"
        }
      ]
    },
    {
      "cell_type": "code",
      "metadata": {
        "id": "7hKH3YbJcRQw",
        "colab_type": "code",
        "colab": {},
        "outputId": "fc4d617c-6d94-4c14-8739-8e772122f09c"
      },
      "source": [
        "# Drop unnecessary columns\n",
        "train_data = train_data.drop(['Order No','User Id','Vehicle Type','Rider Id','Placement - Time(bins)'],axis=1)\n",
        "\n",
        "# Rearrange columns\n",
        "column_titles = [col for col in train_data.columns if col!= 'Time from Pickup to Arrival'] + ['Time from Pickup to Arrival']\n",
        "train_data = train_data.reindex(columns=column_titles)\n",
        "train_data.head()"
      ],
      "execution_count": 0,
      "outputs": [
        {
          "output_type": "execute_result",
          "data": {
            "text/html": [
              "<div>\n",
              "<style scoped>\n",
              "    .dataframe tbody tr th:only-of-type {\n",
              "        vertical-align: middle;\n",
              "    }\n",
              "\n",
              "    .dataframe tbody tr th {\n",
              "        vertical-align: top;\n",
              "    }\n",
              "\n",
              "    .dataframe thead th {\n",
              "        text-align: right;\n",
              "    }\n",
              "</style>\n",
              "<table border=\"1\" class=\"dataframe\">\n",
              "  <thead>\n",
              "    <tr style=\"text-align: right;\">\n",
              "      <th></th>\n",
              "      <th>Platform Type</th>\n",
              "      <th>Personal or Business</th>\n",
              "      <th>Placement - Day of Month</th>\n",
              "      <th>Placement - Weekday</th>\n",
              "      <th>Placement - Time</th>\n",
              "      <th>Confirmation - Day of Month</th>\n",
              "      <th>Confirmation - Weekday</th>\n",
              "      <th>Confirmation - Time</th>\n",
              "      <th>Arrival at Pickup - Day of Month</th>\n",
              "      <th>Arrival at Pickup - Weekday</th>\n",
              "      <th>...</th>\n",
              "      <th>Pickup Lat</th>\n",
              "      <th>Pickup Long</th>\n",
              "      <th>Destination Lat</th>\n",
              "      <th>Destination Long</th>\n",
              "      <th>No of Orders</th>\n",
              "      <th>Age</th>\n",
              "      <th>Average Rating</th>\n",
              "      <th>No of Ratings</th>\n",
              "      <th>Arrival at_Pickup - Time</th>\n",
              "      <th>Time from Pickup to Arrival</th>\n",
              "    </tr>\n",
              "  </thead>\n",
              "  <tbody>\n",
              "    <tr>\n",
              "      <th>0</th>\n",
              "      <td>3</td>\n",
              "      <td>Business</td>\n",
              "      <td>9</td>\n",
              "      <td>5</td>\n",
              "      <td>34546.0</td>\n",
              "      <td>9</td>\n",
              "      <td>5</td>\n",
              "      <td>34810.0</td>\n",
              "      <td>9</td>\n",
              "      <td>5</td>\n",
              "      <td>...</td>\n",
              "      <td>-1.317755</td>\n",
              "      <td>36.830370</td>\n",
              "      <td>-1.300406</td>\n",
              "      <td>36.829741</td>\n",
              "      <td>1637</td>\n",
              "      <td>1309</td>\n",
              "      <td>13.8</td>\n",
              "      <td>549</td>\n",
              "      <td>36287.0</td>\n",
              "      <td>745</td>\n",
              "    </tr>\n",
              "    <tr>\n",
              "      <th>1</th>\n",
              "      <td>3</td>\n",
              "      <td>Personal</td>\n",
              "      <td>12</td>\n",
              "      <td>5</td>\n",
              "      <td>40576.0</td>\n",
              "      <td>12</td>\n",
              "      <td>5</td>\n",
              "      <td>41001.0</td>\n",
              "      <td>12</td>\n",
              "      <td>5</td>\n",
              "      <td>...</td>\n",
              "      <td>-1.351453</td>\n",
              "      <td>36.899315</td>\n",
              "      <td>-1.295004</td>\n",
              "      <td>36.814358</td>\n",
              "      <td>396</td>\n",
              "      <td>339</td>\n",
              "      <td>13.6</td>\n",
              "      <td>69</td>\n",
              "      <td>42022.0</td>\n",
              "      <td>1993</td>\n",
              "    </tr>\n",
              "    <tr>\n",
              "      <th>2</th>\n",
              "      <td>3</td>\n",
              "      <td>Business</td>\n",
              "      <td>30</td>\n",
              "      <td>2</td>\n",
              "      <td>45565.0</td>\n",
              "      <td>30</td>\n",
              "      <td>2</td>\n",
              "      <td>45764.0</td>\n",
              "      <td>30</td>\n",
              "      <td>2</td>\n",
              "      <td>...</td>\n",
              "      <td>-1.308284</td>\n",
              "      <td>36.843419</td>\n",
              "      <td>-1.300921</td>\n",
              "      <td>36.828195</td>\n",
              "      <td>1023</td>\n",
              "      <td>242</td>\n",
              "      <td>12.5</td>\n",
              "      <td>114</td>\n",
              "      <td>46174.0</td>\n",
              "      <td>455</td>\n",
              "    </tr>\n",
              "    <tr>\n",
              "      <th>3</th>\n",
              "      <td>3</td>\n",
              "      <td>Business</td>\n",
              "      <td>15</td>\n",
              "      <td>5</td>\n",
              "      <td>33934.0</td>\n",
              "      <td>15</td>\n",
              "      <td>5</td>\n",
              "      <td>33965.0</td>\n",
              "      <td>15</td>\n",
              "      <td>5</td>\n",
              "      <td>...</td>\n",
              "      <td>-1.281301</td>\n",
              "      <td>36.832396</td>\n",
              "      <td>-1.257147</td>\n",
              "      <td>36.795063</td>\n",
              "      <td>886</td>\n",
              "      <td>283</td>\n",
              "      <td>14.5</td>\n",
              "      <td>113</td>\n",
              "      <td>34676.0</td>\n",
              "      <td>1341</td>\n",
              "    </tr>\n",
              "    <tr>\n",
              "      <th>4</th>\n",
              "      <td>1</td>\n",
              "      <td>Personal</td>\n",
              "      <td>13</td>\n",
              "      <td>1</td>\n",
              "      <td>35718.0</td>\n",
              "      <td>13</td>\n",
              "      <td>1</td>\n",
              "      <td>35778.0</td>\n",
              "      <td>13</td>\n",
              "      <td>1</td>\n",
              "      <td>...</td>\n",
              "      <td>-1.266597</td>\n",
              "      <td>36.792118</td>\n",
              "      <td>-1.295041</td>\n",
              "      <td>36.809817</td>\n",
              "      <td>2311</td>\n",
              "      <td>872</td>\n",
              "      <td>14.1</td>\n",
              "      <td>533</td>\n",
              "      <td>36233.0</td>\n",
              "      <td>1214</td>\n",
              "    </tr>\n",
              "  </tbody>\n",
              "</table>\n",
              "<p>5 rows × 29 columns</p>\n",
              "</div>"
            ],
            "text/plain": [
              "   Platform Type Personal or Business  Placement - Day of Month  \\\n",
              "0              3             Business                         9   \n",
              "1              3             Personal                        12   \n",
              "2              3             Business                        30   \n",
              "3              3             Business                        15   \n",
              "4              1             Personal                        13   \n",
              "\n",
              "   Placement - Weekday  Placement - Time  Confirmation - Day of Month  \\\n",
              "0                    5           34546.0                            9   \n",
              "1                    5           40576.0                           12   \n",
              "2                    2           45565.0                           30   \n",
              "3                    5           33934.0                           15   \n",
              "4                    1           35718.0                           13   \n",
              "\n",
              "   Confirmation - Weekday  Confirmation - Time  \\\n",
              "0                       5              34810.0   \n",
              "1                       5              41001.0   \n",
              "2                       2              45764.0   \n",
              "3                       5              33965.0   \n",
              "4                       1              35778.0   \n",
              "\n",
              "   Arrival at Pickup - Day of Month  Arrival at Pickup - Weekday  ...  \\\n",
              "0                                 9                            5  ...   \n",
              "1                                12                            5  ...   \n",
              "2                                30                            2  ...   \n",
              "3                                15                            5  ...   \n",
              "4                                13                            1  ...   \n",
              "\n",
              "  Pickup Lat  Pickup Long  Destination Lat  Destination Long  No of Orders  \\\n",
              "0  -1.317755    36.830370        -1.300406         36.829741          1637   \n",
              "1  -1.351453    36.899315        -1.295004         36.814358           396   \n",
              "2  -1.308284    36.843419        -1.300921         36.828195          1023   \n",
              "3  -1.281301    36.832396        -1.257147         36.795063           886   \n",
              "4  -1.266597    36.792118        -1.295041         36.809817          2311   \n",
              "\n",
              "    Age  Average Rating  No of Ratings  Arrival at_Pickup - Time  \\\n",
              "0  1309            13.8            549                   36287.0   \n",
              "1   339            13.6             69                   42022.0   \n",
              "2   242            12.5            114                   46174.0   \n",
              "3   283            14.5            113                   34676.0   \n",
              "4   872            14.1            533                   36233.0   \n",
              "\n",
              "   Time from Pickup to Arrival  \n",
              "0                          745  \n",
              "1                         1993  \n",
              "2                          455  \n",
              "3                         1341  \n",
              "4                         1214  \n",
              "\n",
              "[5 rows x 29 columns]"
            ]
          },
          "metadata": {
            "tags": []
          },
          "execution_count": 31
        }
      ]
    },
    {
      "cell_type": "code",
      "metadata": {
        "colab_type": "code",
        "id": "WtBf-22tPSib",
        "colab": {},
        "outputId": "d7a6a0ee-93e1-49f8-9397-4498ceac0d89"
      },
      "source": [
        "# Create matrix of features\n",
        "X = train_data.iloc[:, :-1].values\n",
        "y = train_data.iloc[:, -1].values\n",
        "\n",
        "# Encode categorical data\n",
        "labelencoder_personal_business = LabelEncoder()\n",
        "X[:,1] = labelencoder_personal_business.fit_transform(X[:,1]) \n",
        "\n",
        "ct = ColumnTransformer(transformers=[('encoder',OneHotEncoder(),[0])],remainder='passthrough')\n",
        "X = np.array(ct.fit_transform(X))\n",
        "print(X)"
      ],
      "execution_count": 0,
      "outputs": [
        {
          "output_type": "stream",
          "text": [
            "[[0.0 0.0 1.0 ... 13.8 549 36287.0]\n",
            " [0.0 0.0 1.0 ... 13.6 69 42022.0]\n",
            " [0.0 0.0 1.0 ... 12.5 114 46174.0]\n",
            " ...\n",
            " [0.0 0.0 1.0 ... 13.8 29 63017.0]\n",
            " [1.0 0.0 0.0 ... 14.0 1101 34739.0]\n",
            " [0.0 0.0 1.0 ... 13.6 70 51869.0]]\n"
          ],
          "name": "stdout"
        }
      ]
    },
    {
      "cell_type": "markdown",
      "metadata": {
        "id": "w9dQF56NcRQ2",
        "colab_type": "text"
      },
      "source": [
        "### Split Training Set Into Training and Validation Sets"
      ]
    },
    {
      "cell_type": "code",
      "metadata": {
        "id": "aPG0efe3cRQ3",
        "colab_type": "code",
        "colab": {}
      },
      "source": [
        "X_train, X_test, y_train, y_test = train_test_split(X, y, test_size=0.2, random_state=0)"
      ],
      "execution_count": 0,
      "outputs": []
    },
    {
      "cell_type": "markdown",
      "metadata": {
        "id": "6QFaagOKcRQ5",
        "colab_type": "text"
      },
      "source": [
        "### Feature Scaling"
      ]
    },
    {
      "cell_type": "code",
      "metadata": {
        "id": "t2Y9dNtZcRQ5",
        "colab_type": "code",
        "colab": {}
      },
      "source": [
        "sc_X = StandardScaler()\n",
        "X_train[:,5:] = sc_X.fit_transform(X_train[:,5:])\n",
        "X_test[:,5:] = sc_X.transform(X_test[:,5:])"
      ],
      "execution_count": 0,
      "outputs": []
    },
    {
      "cell_type": "markdown",
      "metadata": {
        "id": "-XOKLMFBcRQ9",
        "colab_type": "text"
      },
      "source": [
        "### Feature Relationships"
      ]
    },
    {
      "cell_type": "code",
      "metadata": {
        "id": "NBP50OF1cRQ-",
        "colab_type": "code",
        "colab": {}
      },
      "source": [
        ""
      ],
      "execution_count": 0,
      "outputs": []
    },
    {
      "cell_type": "markdown",
      "metadata": {
        "colab_type": "text",
        "id": "chM0AHBJ2FyD"
      },
      "source": [
        "<a id=\"modelling\"></a>\n",
        "## 6. Modelling"
      ]
    },
    {
      "cell_type": "code",
      "metadata": {
        "colab_type": "code",
        "id": "VghElnpp2FyI",
        "colab": {}
      },
      "source": [
        ""
      ],
      "execution_count": 0,
      "outputs": []
    },
    {
      "cell_type": "markdown",
      "metadata": {
        "colab_type": "text",
        "id": "teKzAXIF2FyS"
      },
      "source": [
        "<a id=\"evaluation\"></a>\n",
        "## 7. Performance Evaluation"
      ]
    },
    {
      "cell_type": "code",
      "metadata": {
        "colab_type": "code",
        "id": "TKnr90gF2FyT",
        "colab": {}
      },
      "source": [
        ""
      ],
      "execution_count": 0,
      "outputs": []
    },
    {
      "cell_type": "markdown",
      "metadata": {
        "colab_type": "text",
        "id": "5BiBBxvR2FyY"
      },
      "source": [
        "<a id=\"analysis\"></a>\n",
        "## 8. Model Analysis"
      ]
    },
    {
      "cell_type": "code",
      "metadata": {
        "colab_type": "code",
        "id": "F5MAHPU62FyZ",
        "colab": {}
      },
      "source": [
        ""
      ],
      "execution_count": 0,
      "outputs": []
    },
    {
      "cell_type": "markdown",
      "metadata": {
        "colab_type": "text",
        "id": "hBFjibWi2Fy5"
      },
      "source": [
        "<a id=\"conclusion\"></a>\n",
        "## 9. Conclusion"
      ]
    },
    {
      "cell_type": "markdown",
      "metadata": {
        "colab_type": "text",
        "id": "eoo2Ek6G2Fy6"
      },
      "source": [
        "..."
      ]
    }
  ]
}