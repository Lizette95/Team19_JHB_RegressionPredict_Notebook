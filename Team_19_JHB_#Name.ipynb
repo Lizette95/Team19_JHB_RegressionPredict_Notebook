{
  "nbformat": 4,
  "nbformat_minor": 0,
  "metadata": {
    "kernelspec": {
      "display_name": "Python 3",
      "language": "python",
      "name": "python3"
    },
    "language_info": {
      "codemirror_mode": {
        "name": "ipython",
        "version": 3
      },
      "file_extension": ".py",
      "mimetype": "text/x-python",
      "name": "python",
      "nbconvert_exporter": "python",
      "pygments_lexer": "ipython3",
      "version": "3.7.4"
    },
    "colab": {
      "name": "Team_19_JHB_#Name.ipynb",
      "provenance": []
    }
  },
  "cells": [
    {
      "cell_type": "markdown",
      "metadata": {
        "id": "5bGG-ITPxGxp",
        "colab_type": "text"
      },
      "source": [
        "[![Open In Colab](https://colab.research.google.com/assets/colab-badge.svg)](https://colab.research.google.com/github/Lizette95/Team19_JHB_RegressionPredict_Notebook/blob/master/Team_19_JHB_%23Name.ipynb)"
      ]
    },
    {
      "cell_type": "markdown",
      "metadata": {
        "id": "5oPXY7k-wEBN",
        "colab_type": "text"
      },
      "source": [
        "# Team 19 JHB #Name\n",
        "---\n",
        "<img src=\"https://github.com/Lizette95/notebook_images/blob/master/banner.png?raw=true\" align=\"left\">  "
      ]
    },
    {
      "cell_type": "markdown",
      "metadata": {
        "id": "hLaGmDV_wEBS",
        "colab_type": "text"
      },
      "source": [
        "### Table of Contents\n",
        "---\n",
        "1. [Introduction](#intro)\n",
        "---\n",
        "2. [Module Imports](#imports)\n",
        "---\n",
        "3. [Exploratory Data Analysis](#EDA)\n",
        " * [Something](#1)\n",
        " * [Something else](#2)\n",
        " * [Another thing](#3)\n",
        "---\n",
        "4. [Data Preprocessing](#preprocessing)\n",
        "---\n",
        "5. [Modelling](#modelling)\n",
        "---\n",
        "6. [Performance Evaluation](#evaluation)\n",
        "---\n",
        "7. [Model Analysis](#analysis)\n",
        "---\n",
        "8. [Conclusion](#conclusion)"
      ]
    },
    {
      "cell_type": "markdown",
      "metadata": {
        "id": "a30o5vLLwEBU",
        "colab_type": "text"
      },
      "source": [
        "<a id=\"intro\"></a>\n",
        "## Introduction\n",
        "\n",
        "* Background on regression/machine learning  \n",
        "* Challenge description  \n",
        "* Data available   \n",
        "* Equations?  \n",
        "### Root Mean Squared Error (RMSE)\n",
        "\n",
        "$$\\sqrt{\\frac{1}{N}\\sum_{i=1}^Ne^2}$$\n",
        "\n",
        "---\n",
        "**Markdown Cheatsheet:**\n",
        "https://github.com/adam-p/markdown-here/wiki/Markdown-Cheatsheet\n",
        "\n",
        "---"
      ]
    },
    {
      "cell_type": "markdown",
      "metadata": {
        "id": "GfzKyebGwEBW",
        "colab_type": "text"
      },
      "source": [
        "<a id=\"imports\"></a>\n",
        "## Module Imports"
      ]
    },
    {
      "cell_type": "code",
      "metadata": {
        "id": "OOw7nDA6wEBY",
        "colab_type": "code",
        "colab": {}
      },
      "source": [
        "# Ignore warnings\n",
        "import warnings\n",
        "warnings.simplefilter(action='ignore')\n",
        "\n",
        "# Import modules\n",
        "import numpy as np\n",
        "import pandas as pd\n",
        "import seaborn as sns\n",
        "import matplotlib.pyplot as plt\n",
        "\n",
        "# Display\n",
        "%matplotlib inline\n",
        "sns.set_style(\"white\")"
      ],
      "execution_count": 0,
      "outputs": []
    },
    {
      "cell_type": "markdown",
      "metadata": {
        "id": "JBMTLj41wEBl",
        "colab_type": "text"
      },
      "source": [
        "<a id=\"EDA\"></a>\n",
        "## Exploratory Data Analysis"
      ]
    },
    {
      "cell_type": "code",
      "metadata": {
        "id": "Pe39k2JRwEBn",
        "colab_type": "code",
        "colab": {}
      },
      "source": [
        "### Load data"
      ],
      "execution_count": 0,
      "outputs": []
    },
    {
      "cell_type": "markdown",
      "metadata": {
        "id": "Fv-IaVEOwEBz",
        "colab_type": "text"
      },
      "source": [
        "<a id=\"1\"></a>\n",
        "### Something"
      ]
    },
    {
      "cell_type": "code",
      "metadata": {
        "id": "J3MK2H0RwEB1",
        "colab_type": "code",
        "colab": {}
      },
      "source": [
        ""
      ],
      "execution_count": 0,
      "outputs": []
    },
    {
      "cell_type": "markdown",
      "metadata": {
        "id": "e81-fFc5wEB8",
        "colab_type": "text"
      },
      "source": [
        "<a id=\"2\"></a>\n",
        "### Something else"
      ]
    },
    {
      "cell_type": "code",
      "metadata": {
        "id": "Yc1xHxeIwEB-",
        "colab_type": "code",
        "colab": {}
      },
      "source": [
        ""
      ],
      "execution_count": 0,
      "outputs": []
    },
    {
      "cell_type": "markdown",
      "metadata": {
        "id": "po2O6XLpwECG",
        "colab_type": "text"
      },
      "source": [
        "<a id=\"3\"></a>\n",
        "### Another thing"
      ]
    },
    {
      "cell_type": "code",
      "metadata": {
        "id": "OVOBeWjPwECH",
        "colab_type": "code",
        "colab": {}
      },
      "source": [
        ""
      ],
      "execution_count": 0,
      "outputs": []
    },
    {
      "cell_type": "markdown",
      "metadata": {
        "id": "ORxjNBJnwECN",
        "colab_type": "text"
      },
      "source": [
        "<a id=\"preprocessing\"></a>\n",
        "## Data Preprocessing"
      ]
    },
    {
      "cell_type": "code",
      "metadata": {
        "id": "z-ZmqgEawECP",
        "colab_type": "code",
        "colab": {}
      },
      "source": [
        ""
      ],
      "execution_count": 0,
      "outputs": []
    },
    {
      "cell_type": "markdown",
      "metadata": {
        "id": "ofGWuQ5FwECZ",
        "colab_type": "text"
      },
      "source": [
        "<a id=\"modelling\"></a>\n",
        "## Modelling"
      ]
    },
    {
      "cell_type": "code",
      "metadata": {
        "id": "OcjZf5FawECb",
        "colab_type": "code",
        "colab": {}
      },
      "source": [
        ""
      ],
      "execution_count": 0,
      "outputs": []
    },
    {
      "cell_type": "markdown",
      "metadata": {
        "id": "hRW6bsGswECi",
        "colab_type": "text"
      },
      "source": [
        "<a id=\"evaluation\"></a>\n",
        "## Performance Evaluation"
      ]
    },
    {
      "cell_type": "code",
      "metadata": {
        "id": "ugmIGEo_wECl",
        "colab_type": "code",
        "colab": {}
      },
      "source": [
        ""
      ],
      "execution_count": 0,
      "outputs": []
    },
    {
      "cell_type": "markdown",
      "metadata": {
        "id": "Ggahk_0qwECr",
        "colab_type": "text"
      },
      "source": [
        "<a id=\"analysis\"></a>\n",
        "## Model Analysis"
      ]
    },
    {
      "cell_type": "code",
      "metadata": {
        "id": "wuDp8iyvwECt",
        "colab_type": "code",
        "colab": {}
      },
      "source": [
        ""
      ],
      "execution_count": 0,
      "outputs": []
    },
    {
      "cell_type": "markdown",
      "metadata": {
        "id": "GWo7ra3dwEC0",
        "colab_type": "text"
      },
      "source": [
        "<a id=\"conclusion\"></a>\n",
        "## Conclusion"
      ]
    },
    {
      "cell_type": "markdown",
      "metadata": {
        "id": "UA_-6ckOwEC4",
        "colab_type": "text"
      },
      "source": [
        "Thank you and goodnight...  \n",
        "Testing"
      ]
    }
  ]
}