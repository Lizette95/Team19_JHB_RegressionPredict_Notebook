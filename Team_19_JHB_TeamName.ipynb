{
  "nbformat": 4,
  "nbformat_minor": 0,
  "metadata": {
    "kernelspec": {
      "display_name": "Python 3",
      "language": "python",
      "name": "python3"
    },
    "language_info": {
      "codemirror_mode": {
        "name": "ipython",
        "version": 3
      },
      "file_extension": ".py",
      "mimetype": "text/x-python",
      "name": "python",
      "nbconvert_exporter": "python",
      "pygments_lexer": "ipython3",
      "version": "3.7.4"
    },
    "colab": {
      "name": "Team_19_JHB_TeamName.ipynb",
      "provenance": [],
      "collapsed_sections": []
    }
  },
  "cells": [
    {
      "cell_type": "markdown",
      "metadata": {
        "id": "JmwSEWO22Fw1",
        "colab_type": "text"
      },
      "source": [
        "# Team 19 JHB #TeamName\n",
        "---\n",
        "<img src=\"https://github.com/Lizette95/notebook_images/blob/master/banner.png?raw=true\" align=\"left\">  "
      ]
    },
    {
      "cell_type": "markdown",
      "metadata": {
        "id": "PJbrOXzh2Fw3",
        "colab_type": "text"
      },
      "source": [
        "### Table of Contents\n",
        "---\n",
        "1. [Introduction](#intro)\n",
        "---\n",
        "2. [Module Imports](#imports)\n",
        "---\n",
        "3. [Exploratory Data Analysis](#EDA)\n",
        " * [Something](#1)\n",
        " * [Something else](#2)\n",
        " * [Another thing](#3)\n",
        "---\n",
        "4. [Data Preprocessing](#preprocessing)\n",
        "---\n",
        "5. [Modelling](#modelling)\n",
        "---\n",
        "6. [Performance Evaluation](#evaluation)\n",
        "---\n",
        "7. [Model Analysis](#analysis)\n",
        "---\n",
        "8. [Conclusion](#conclusion)"
      ]
    },
    {
      "cell_type": "markdown",
      "metadata": {
        "id": "FuWPzFFu2Fw4",
        "colab_type": "text"
      },
      "source": [
        "<a id=\"intro\"></a>\n",
        "## Introduction\n",
        "\n",
        "* Background on regression/machine learning  \n",
        "* Challenge description  \n",
        "* Data available   \n",
        "* Equations?  \n",
        "### Root Mean Squared Error (RMSE)\n",
        "\n",
        "$$\\sqrt{\\frac{1}{N}\\sum_{i=1}^Ne^2}$$\n",
        "\n",
        "---\n",
        "**Markdown Cheatsheet:**\n",
        "https://github.com/adam-p/markdown-here/wiki/Markdown-Cheatsheet\n",
        "\n",
        "---"
      ]
    },
    {
      "cell_type": "markdown",
      "metadata": {
        "id": "_9Q_MjhR2Fw5",
        "colab_type": "text"
      },
      "source": [
        "<a id=\"imports\"></a>\n",
        "## Module Imports"
      ]
    },
    {
      "cell_type": "code",
      "metadata": {
        "id": "sHYujSMU2Fw7",
        "colab_type": "code",
        "colab": {}
      },
      "source": [
        "# Ignore warnings\n",
        "import warnings\n",
        "warnings.simplefilter(action='ignore')\n",
        "\n",
        "# Import modules\n",
        "import numpy as np\n",
        "import pandas as pd\n",
        "import seaborn as sns\n",
        "import matplotlib.pyplot as plt\n",
        "\n",
        "# Display\n",
        "%matplotlib inline\n",
        "sns.set_style(\"white\")"
      ],
      "execution_count": 0,
      "outputs": []
    },
    {
      "cell_type": "markdown",
      "metadata": {
        "id": "vMewlKRL2FxH",
        "colab_type": "text"
      },
      "source": [
        "<a id=\"EDA\"></a>\n",
        "## Exploratory Data Analysis"
      ]
    },
    {
      "cell_type": "code",
      "metadata": {
        "id": "0rX4HySU2FxI",
        "colab_type": "code",
        "colab": {}
      },
      "source": [
        "### Load data"
      ],
      "execution_count": 0,
      "outputs": []
    },
    {
      "cell_type": "markdown",
      "metadata": {
        "id": "SuPP6oh92FxV",
        "colab_type": "text"
      },
      "source": [
        "<a id=\"1\"></a>\n",
        "### Something"
      ]
    },
    {
      "cell_type": "code",
      "metadata": {
        "id": "q99AyZ-Q2FxY",
        "colab_type": "code",
        "colab": {}
      },
      "source": [
        ""
      ],
      "execution_count": 0,
      "outputs": []
    },
    {
      "cell_type": "markdown",
      "metadata": {
        "id": "JB_HobST2Fxr",
        "colab_type": "text"
      },
      "source": [
        "<a id=\"2\"></a>\n",
        "### Something else"
      ]
    },
    {
      "cell_type": "code",
      "metadata": {
        "id": "beGOTkF12Fxs",
        "colab_type": "code",
        "colab": {}
      },
      "source": [
        ""
      ],
      "execution_count": 0,
      "outputs": []
    },
    {
      "cell_type": "markdown",
      "metadata": {
        "id": "IIa4YOUN2Fxw",
        "colab_type": "text"
      },
      "source": [
        "<a id=\"3\"></a>\n",
        "### Another thing"
      ]
    },
    {
      "cell_type": "code",
      "metadata": {
        "id": "kmqswl8t2Fxx",
        "colab_type": "code",
        "colab": {}
      },
      "source": [
        ""
      ],
      "execution_count": 0,
      "outputs": []
    },
    {
      "cell_type": "markdown",
      "metadata": {
        "id": "z6jONYzo2Fx2",
        "colab_type": "text"
      },
      "source": [
        "<a id=\"preprocessing\"></a>\n",
        "## Data Preprocessing"
      ]
    },
    {
      "cell_type": "code",
      "metadata": {
        "id": "TYN7y0oW2Fx3",
        "colab_type": "code",
        "colab": {}
      },
      "source": [
        ""
      ],
      "execution_count": 0,
      "outputs": []
    },
    {
      "cell_type": "markdown",
      "metadata": {
        "id": "chM0AHBJ2FyD",
        "colab_type": "text"
      },
      "source": [
        "<a id=\"modelling\"></a>\n",
        "## Modelling"
      ]
    },
    {
      "cell_type": "code",
      "metadata": {
        "id": "VghElnpp2FyI",
        "colab_type": "code",
        "colab": {}
      },
      "source": [
        ""
      ],
      "execution_count": 0,
      "outputs": []
    },
    {
      "cell_type": "markdown",
      "metadata": {
        "id": "teKzAXIF2FyS",
        "colab_type": "text"
      },
      "source": [
        "<a id=\"evaluation\"></a>\n",
        "## Performance Evaluation"
      ]
    },
    {
      "cell_type": "code",
      "metadata": {
        "id": "TKnr90gF2FyT",
        "colab_type": "code",
        "colab": {}
      },
      "source": [
        ""
      ],
      "execution_count": 0,
      "outputs": []
    },
    {
      "cell_type": "markdown",
      "metadata": {
        "id": "5BiBBxvR2FyY",
        "colab_type": "text"
      },
      "source": [
        "<a id=\"analysis\"></a>\n",
        "## Model Analysis"
      ]
    },
    {
      "cell_type": "code",
      "metadata": {
        "id": "F5MAHPU62FyZ",
        "colab_type": "code",
        "colab": {}
      },
      "source": [
        ""
      ],
      "execution_count": 0,
      "outputs": []
    },
    {
      "cell_type": "markdown",
      "metadata": {
        "id": "hBFjibWi2Fy5",
        "colab_type": "text"
      },
      "source": [
        "<a id=\"conclusion\"></a>\n",
        "## Conclusion"
      ]
    },
    {
      "cell_type": "markdown",
      "metadata": {
        "id": "eoo2Ek6G2Fy6",
        "colab_type": "text"
      },
      "source": [
        "Thank you and goodnight..."
      ]
    },
    {
      "cell_type": "code",
      "metadata": {
        "id": "u0fv7T7k2gD3",
        "colab_type": "code",
        "colab": {}
      },
      "source": [
        ""
      ],
      "execution_count": 0,
      "outputs": []
    }
  ]
}