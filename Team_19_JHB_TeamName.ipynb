{
  "nbformat": 4,
  "nbformat_minor": 0,
  "metadata": {
    "kernelspec": {
      "display_name": "Python 3",
      "language": "python",
      "name": "python3"
    },
    "language_info": {
      "codemirror_mode": {
        "name": "ipython",
        "version": 3
      },
      "file_extension": ".py",
      "mimetype": "text/x-python",
      "name": "python",
      "nbconvert_exporter": "python",
      "pygments_lexer": "ipython3",
      "version": "3.7.4"
    },
    "colab": {
      "name": "Team_19_JHB_TeamName.ipynb",
      "provenance": [],
      "collapsed_sections": []
    }
  },
  "cells": [
    {
      "cell_type": "markdown",
      "metadata": {
        "id": "JmwSEWO22Fw1",
        "colab_type": "text"
      },
      "source": [
        "# Team 19 JHB #TeamName\n",
        "---\n",
        "<img src=\"https://github.com/Lizette95/notebook_images/blob/master/banner.png?raw=true\" align=\"left\">  \n"
      ]
    },
    {
      "cell_type": "markdown",
      "metadata": {
        "id": "DFFep1GsLgDr",
        "colab_type": "text"
      },
      "source": [
        "---\n",
        "**Markdown Cheatsheet:**\n",
        "https://github.com/adam-p/markdown-here/wiki/Markdown-Cheatsheet\n",
        "\n",
        "---"
      ]
    },
    {
      "cell_type": "markdown",
      "metadata": {
        "id": "PJbrOXzh2Fw3",
        "colab_type": "text"
      },
      "source": [
        "### Table of Contents\n",
        "---\n",
        "1. [Introduction](#intro)\n",
        " * Project Description\n",
        " * Datasets and Variables\n",
        "---\n",
        "2. [Module Imports](#imports)\n",
        "---\n",
        "3. [Exploratory Data Analysis](#EDA)\n",
        " * Load Data\n",
        " * Merge Datasets\n",
        " * Data Summary Statistics\n",
        " * Missing Data\n",
        " * Numerical Features\n",
        " * Categorical Features\n",
        "---\n",
        "4. [Data Preprocessing](#preprocessing)\n",
        "---\n",
        "5. [Modelling](#modelling)\n",
        "---\n",
        "6. [Performance Evaluation](#evaluation)\n",
        "---\n",
        "7. [Model Analysis](#analysis)\n",
        "---\n",
        "8. [Conclusion](#conclusion)"
      ]
    },
    {
      "cell_type": "markdown",
      "metadata": {
        "id": "FuWPzFFu2Fw4",
        "colab_type": "text"
      },
      "source": [
        "<a id=\"intro\"></a>\n",
        "## Introduction  \n",
        "\n",
        "### Project Description\n",
        "\n",
        "Machine learning is a powerful branch of Artificial Intelligence, dating as far back as 1952,  developed to teach computer systems how to make decisions emanated from preexisting data. Mathematical algorithms are applied to training data which allows a machine to identify patterns and make predictions for unseen datasets.\n",
        "\n",
        "Regression is a popular supervised learning statistical method that aims to predict the value of a dependent variable (y) based on an independent variable (x). The relationship between the variables can be linear or nonlinear.\n",
        "\n",
        "The Zindi challenge, hosted by Sendy in partnership with insight2impact facility, is to build a regression model that will predict an accurate time of arrival for motobike deliveries from the pickup point to the destination of the package. An accurate arrival time will enhance customer communication and customer experience. In addition, the solution will help businesses reduce the cost of trade through better management of resources and planning.\n",
        "\n",
        "\n",
        "The dataset provided by Sendy includes order details and rider metrics based on orders made on the Sendy platform. The challenge is to predict the estimated time of arrival for orders, from pick-up to drop-off. The training dataset is a subset of over 20,000 orders and only includes direct orders (i.e. Sendy “express” orders) with bikes in Nairobi. \n",
        "\n",
        "### Datasets and Variables  \n",
        "\n",
        "**train_data:** The dataset that will be used to train our model  \n",
        "**test_data:** The dataset on which we will apply our model to  \n",
        "**riders:** Contains unique rider Ids, number of orders, age, rating and number of ratings\n",
        "\n",
        "**Order details**  \n",
        "* Order No: Unique number identifying the order  \n",
        "* User Id: Unique number identifying the customer on a platform  \n",
        "* Vehicle Type: For this competition limited to bikes, however in practice, Sendy service extends to trucks and vans  \n",
        "* Platform Type: Platform used to place the order (there are 4 types)  \n",
        "* Personal or Business: Customer type  \n",
        "\n",
        "**Placement times**  \n",
        "* Placement: Day of Month (i.e 1-31)  \n",
        "* Placement: Weekday (Monday = 1)  \n",
        "* Placement: Time - Time of day the order was placed  \n",
        "\n",
        "**Confirmation times**  \n",
        "* Confirmation: Day of Month (i.e 1-31)  \n",
        "* Confirmation: Weekday (Monday = 1)  \n",
        "* Confirmation: Time (Time of day the order was confirmed by a rider)  \n",
        "\n",
        "**Arrival at Pickup times**  \n",
        "* Arrival at Pickup: Day of Month (i.e 1-31)  \n",
        "* Arrival at Pickup: Weekday (Monday = 1)  \n",
        "* Arrival at Pickup: Time (Time of day the rider arrived at the location to pick up the order - as marked by the rider through the Sendy application)  \n",
        "\n",
        "**Pickup times**  \n",
        "* Pickup: Day of Month (i.e 1-31)  \n",
        "* Pickup: Weekday (Monday = 1)  \n",
        "* Pickup: Time (Time of day the rider picked up the order - as marked by the rider through the Sendy application)  \n",
        "\n",
        "**Arrival at Destination times** (not in Test set)  \n",
        "* Arrival at Delivery: Day of Month (i.e 1-31)  \n",
        "* Arrival at Delivery: Weekday (Monday = 1)  \n",
        "* Arrival at Delivery: Time (Time of day the rider arrived at the destination to deliver the order - as marked by the rider through the Sendy application)  \n",
        "* Distance covered (KM): The distance from Pickup to Destination  \n",
        "* Temperature: Temperature at the time of order placement in Degrees Celsius (measured every three hours)  \n",
        "* Precipitation in Millimeters: Precipitation at the time of order placement (measured every three hours)  \n",
        "* Pickup Latitude and Longitude: Latitude and longitude of pick up location  \n",
        "* Destination Latitude and Longitude: Latitude and longitude of delivery location  \n",
        "* Rider ID: ID of the Rider who accepted the order  \n",
        "* Time from Pickup to Arrival: Time in seconds between ‘Pickup’ and ‘Arrival at Destination’    \n",
        "\n",
        "**Rider metrics**  \n",
        "* Rider ID: Unique number identifying the rider (same as in order details)  \n",
        "* No of Orders: Number of Orders the rider has delivered  \n",
        "* Age: Number of days since the rider delivered the first order  \n",
        "* Average Rating: Average rating of the rider  \n",
        "* No of Ratings: Number of ratings the rider has received. Rating an order is optional for the customer"
      ]
    },
    {
      "cell_type": "markdown",
      "metadata": {
        "id": "_9Q_MjhR2Fw5",
        "colab_type": "text"
      },
      "source": [
        "<a id=\"imports\"></a>\n",
        "## Module Imports"
      ]
    },
    {
      "cell_type": "code",
      "metadata": {
        "id": "sHYujSMU2Fw7",
        "colab_type": "code",
        "colab": {}
      },
      "source": [
        "# Ignore warnings\n",
        "import warnings\n",
        "warnings.simplefilter(action='ignore')\n",
        "\n",
        "# Import modules\n",
        "import numpy as np\n",
        "import pandas as pd\n",
        "import seaborn as sns\n",
        "import matplotlib.pyplot as plt\n",
        "\n",
        "# Display\n",
        "%matplotlib inline\n",
        "sns.set_style(\"white\")"
      ],
      "execution_count": 0,
      "outputs": []
    },
    {
      "cell_type": "markdown",
      "metadata": {
        "id": "vMewlKRL2FxH",
        "colab_type": "text"
      },
      "source": [
        "<a id=\"EDA\"></a>\n",
        "## Exploratory Data Analysis"
      ]
    },
    {
      "cell_type": "markdown",
      "metadata": {
        "id": "bSQ8kXgtOUcA",
        "colab_type": "text"
      },
      "source": [
        "### Load Data"
      ]
    },
    {
      "cell_type": "code",
      "metadata": {
        "id": "0rX4HySU2FxI",
        "colab_type": "code",
        "colab": {}
      },
      "source": [
        "train_data = pd.read_csv('https://raw.githubusercontent.com/Lizette95/regression-predict-api-template/master/utils/data/train_data.csv')\n",
        "test_data = pd.read_csv('https://raw.githubusercontent.com/Lizette95/regression-predict-api-template/master/utils/data/test_data.csv')\n",
        "riders = pd.read_csv('https://raw.githubusercontent.com/Lizette95/regression-predict-api-template/master/utils/data/riders.csv')"
      ],
      "execution_count": 0,
      "outputs": []
    },
    {
      "cell_type": "markdown",
      "metadata": {
        "id": "mMhyf8l4OY3X",
        "colab_type": "text"
      },
      "source": [
        "### Merge Datasets"
      ]
    },
    {
      "cell_type": "code",
      "metadata": {
        "id": "RjZzvikJOrUZ",
        "colab_type": "code",
        "colab": {}
      },
      "source": [
        "riders.head()"
      ],
      "execution_count": 0,
      "outputs": []
    },
    {
      "cell_type": "code",
      "metadata": {
        "id": "N2fCvQDsSpFl",
        "colab_type": "code",
        "colab": {}
      },
      "source": [
        "train_data = pd.merge(train_data,riders,on='Rider Id',how='left')\n",
        "train_data.head()"
      ],
      "execution_count": 0,
      "outputs": []
    },
    {
      "cell_type": "code",
      "metadata": {
        "id": "f4dlVr4cSpH8",
        "colab_type": "code",
        "colab": {}
      },
      "source": [
        "test_data = pd.merge(test_data,riders,on='Rider Id',how='left')\n",
        "test_data.head()"
      ],
      "execution_count": 0,
      "outputs": []
    },
    {
      "cell_type": "markdown",
      "metadata": {
        "id": "ZzK6Gm67OZDr",
        "colab_type": "text"
      },
      "source": [
        "### Data Summary Statistics"
      ]
    },
    {
      "cell_type": "markdown",
      "metadata": {
        "id": "8KtQ74iYS62E",
        "colab_type": "text"
      },
      "source": [
        "**Train Data**"
      ]
    },
    {
      "cell_type": "code",
      "metadata": {
        "id": "FhOACZ9hOrsv",
        "colab_type": "code",
        "colab": {}
      },
      "source": [
        "train_data.info()"
      ],
      "execution_count": 0,
      "outputs": []
    },
    {
      "cell_type": "code",
      "metadata": {
        "id": "MKdZLBw4TLw_",
        "colab_type": "code",
        "colab": {}
      },
      "source": [
        "train_data.describe()"
      ],
      "execution_count": 0,
      "outputs": []
    },
    {
      "cell_type": "markdown",
      "metadata": {
        "id": "nfY4AyiqS1mY",
        "colab_type": "text"
      },
      "source": [
        "**Test Data**"
      ]
    },
    {
      "cell_type": "code",
      "metadata": {
        "id": "qO8ewu1XS_bL",
        "colab_type": "code",
        "colab": {}
      },
      "source": [
        "test_data.info()"
      ],
      "execution_count": 0,
      "outputs": []
    },
    {
      "cell_type": "code",
      "metadata": {
        "id": "aJt-G-QCTCDH",
        "colab_type": "code",
        "colab": {}
      },
      "source": [
        "test_data.describe()"
      ],
      "execution_count": 0,
      "outputs": []
    },
    {
      "cell_type": "markdown",
      "metadata": {
        "id": "XeQLq1rQOZP0",
        "colab_type": "text"
      },
      "source": [
        "### Missing Data"
      ]
    },
    {
      "cell_type": "markdown",
      "metadata": {
        "colab_type": "text",
        "id": "K14U5Lc3THNg"
      },
      "source": [
        "**Train Data**"
      ]
    },
    {
      "cell_type": "code",
      "metadata": {
        "id": "nojWNPNfOsFf",
        "colab_type": "code",
        "colab": {}
      },
      "source": [
        "train_data.isnull().sum()"
      ],
      "execution_count": 0,
      "outputs": []
    },
    {
      "cell_type": "code",
      "metadata": {
        "id": "zl5qMWCCUFrZ",
        "colab_type": "code",
        "colab": {}
      },
      "source": [
        "fig,axis = plt.subplots(figsize=(12,5))\n",
        "sns.heatmap(train_data.isnull(),yticklabels=False,cbar=False,cmap='brg')\n",
        "plt.xticks(fontsize=12)\n",
        "plt.show()"
      ],
      "execution_count": 0,
      "outputs": []
    },
    {
      "cell_type": "code",
      "metadata": {
        "id": "YhDxpPOGUFt_",
        "colab_type": "code",
        "colab": {}
      },
      "source": [
        "missing_train = pd.DataFrame(round((train_data.isnull().sum()/train_data.isnull().count())*100,2),columns=['% missing data'])\n",
        "missing_train.sort_values(by='% missing data',ascending=False).head(2)"
      ],
      "execution_count": 0,
      "outputs": []
    },
    {
      "cell_type": "markdown",
      "metadata": {
        "id": "1ySZ4RhJUJay",
        "colab_type": "text"
      },
      "source": [
        "* Remove Precipitation in millimeters  \n",
        "* Impute Temperature (average temperature according to time of order placement)"
      ]
    },
    {
      "cell_type": "code",
      "metadata": {
        "id": "po-tyjJgUNE_",
        "colab_type": "code",
        "colab": {}
      },
      "source": [
        "# Drop 'Precipitation in millimeters' column\n",
        "train_data.drop('Precipitation in millimeters',axis=1,inplace=True)\n",
        "# Create 24h time bins\n",
        "train_data['Placement - Time(bins)'] = pd.to_datetime(pd.to_datetime(train_data['Placement - Time']).dt.strftime('%H:%M:%S')).dt.strftime('%H')\n",
        "# Impute temperature for missing values\n",
        "train_data['Temperature'] = train_data['Temperature'].fillna(round(train_data.groupby('Placement - Time(bins)')['Temperature'].transform('mean'),1))"
      ],
      "execution_count": 0,
      "outputs": []
    },
    {
      "cell_type": "code",
      "metadata": {
        "id": "sCpmR-KWUPtg",
        "colab_type": "code",
        "colab": {}
      },
      "source": [
        "fig,axis = plt.subplots(figsize=(12,5))\n",
        "sns.boxplot(x='Placement - Time(bins)',y='Temperature',data=train_data,palette='CMRmap')\n",
        "plt.title('Distribution of Temperature (°C) at Different Times During the Day',fontsize=16)\n",
        "plt.xlabel('Time of Day (Hour)',fontsize=12)\n",
        "plt.ylabel('Temperature (°C)',fontsize=12)\n",
        "plt.xticks(fontsize=12)\n",
        "plt.yticks(fontsize=12)\n",
        "plt.show()"
      ],
      "execution_count": 0,
      "outputs": []
    },
    {
      "cell_type": "markdown",
      "metadata": {
        "colab_type": "text",
        "id": "xtjjMninTIUR"
      },
      "source": [
        "**Test Data**"
      ]
    },
    {
      "cell_type": "code",
      "metadata": {
        "id": "sQFXFHJYUFP0",
        "colab_type": "code",
        "colab": {}
      },
      "source": [
        "test_data.isnull().sum()"
      ],
      "execution_count": 0,
      "outputs": []
    },
    {
      "cell_type": "code",
      "metadata": {
        "id": "yZzUFUkWUSlt",
        "colab_type": "code",
        "colab": {}
      },
      "source": [
        "fig,axis = plt.subplots(figsize=(12,5))\n",
        "sns.heatmap(test_data.isnull(),yticklabels=False,cbar=False,cmap='brg')\n",
        "plt.xticks(fontsize=12)\n",
        "plt.show()"
      ],
      "execution_count": 0,
      "outputs": []
    },
    {
      "cell_type": "code",
      "metadata": {
        "id": "V0YdPYKIUSoH",
        "colab_type": "code",
        "colab": {}
      },
      "source": [
        "missing_test = pd.DataFrame(round((test_data.isnull().sum()/test_data.isnull().count())*100,2),columns=['% missing data'])\n",
        "missing_test.sort_values(by='% missing data',ascending=False).head(2)"
      ],
      "execution_count": 0,
      "outputs": []
    },
    {
      "cell_type": "markdown",
      "metadata": {
        "id": "BbKSE_JYUUvi",
        "colab_type": "text"
      },
      "source": [
        "* Remove Precipitation in millimeters  \n",
        "* Impute Temperature (average temperature according to time of order placement)"
      ]
    },
    {
      "cell_type": "code",
      "metadata": {
        "id": "sLBsGU99USrS",
        "colab_type": "code",
        "colab": {}
      },
      "source": [
        "# Drop 'Precipitation in millimeters' column\n",
        "test_data.drop('Precipitation in millimeters',axis=1,inplace=True)\n",
        "# Create 24h time bins\n",
        "test_data['Placement - Time(bins)'] = pd.to_datetime(pd.to_datetime(test_data['Placement - Time']).dt.strftime('%H:%M:%S')).dt.strftime('%H')\n",
        "# Impute temperature for missing values\n",
        "test_data['Temperature'] = test_data['Temperature'].fillna(round(test_data.groupby('Placement - Time(bins)')['Temperature'].transform('mean'),1))"
      ],
      "execution_count": 0,
      "outputs": []
    },
    {
      "cell_type": "code",
      "metadata": {
        "id": "QDN7FNYZUUGE",
        "colab_type": "code",
        "colab": {}
      },
      "source": [
        "fig,axis = plt.subplots(figsize=(12,5))\n",
        "sns.boxplot(x='Placement - Time(bins)',y='Temperature',data=test_data,palette='CMRmap')\n",
        "plt.title('Distribution of Temperature (°C) at Different Times During the Day',fontsize=16)\n",
        "plt.xlabel('Time of Day (Hour)',fontsize=12)\n",
        "plt.ylabel('Temperature (°C)',fontsize=12)\n",
        "plt.xticks(fontsize=12)\n",
        "plt.yticks(fontsize=12)\n",
        "plt.show()"
      ],
      "execution_count": 0,
      "outputs": []
    },
    {
      "cell_type": "markdown",
      "metadata": {
        "id": "ED_Yut8kOZbg",
        "colab_type": "text"
      },
      "source": [
        "### Numerical Features"
      ]
    },
    {
      "cell_type": "markdown",
      "metadata": {
        "id": "Ki6CxTSOUyiy",
        "colab_type": "text"
      },
      "source": [
        "* Placement - Time?  \n",
        "* Confirmation - Time?  \n",
        "* Arrival at Pickup - Time?  \n",
        "* Pickup - Time?  \n",
        "* Distance (KM)  \n",
        "* Temperature  \n",
        "* Pickup Lat  \n",
        "* Pickup Long  \n",
        "* Destination Lat  \n",
        "* Destination Long  \n",
        "* No_Of_Orders  \n",
        "* Age  \n",
        "* Average_Rating  \n",
        "* No_of_Ratings  \n",
        "\n",
        "**Target variable:**  \n",
        "\n",
        "Time from Pickup to Arrival (ignore 'Arrival at Destination' columns for features)"
      ]
    },
    {
      "cell_type": "code",
      "metadata": {
        "id": "3EtkoJyVOsbt",
        "colab_type": "code",
        "colab": {}
      },
      "source": [
        "# Correlation of numerical variables & target variable\n",
        "train_numerical = train_data[['Distance (KM)','Temperature','Pickup Lat','Pickup Long','Destination Lat','Destination Long','No_Of_Orders','Age','Average_Rating','No_of_Ratings','Time from Pickup to Arrival']]\n",
        "cmatrix = train_numerical.corr()\n",
        "sns.heatmap(cmatrix, square=True, cmap='BuPu')\n",
        "plt.xticks(fontsize=12)\n",
        "plt.yticks(fontsize=12)\n",
        "plt.show()"
      ],
      "execution_count": 0,
      "outputs": []
    },
    {
      "cell_type": "code",
      "metadata": {
        "id": "K3bIva3jU-b4",
        "colab_type": "code",
        "colab": {}
      },
      "source": [
        "pd.DataFrame(cmatrix['Time from Pickup to Arrival'].abs().sort_values(ascending=False))"
      ],
      "execution_count": 0,
      "outputs": []
    },
    {
      "cell_type": "code",
      "metadata": {
        "id": "e1vC_Tg-VBdt",
        "colab_type": "code",
        "colab": {}
      },
      "source": [
        "sns.pairplot(train_numerical)\n",
        "plt.show()"
      ],
      "execution_count": 0,
      "outputs": []
    },
    {
      "cell_type": "code",
      "metadata": {
        "id": "9ltI0-4YVC7k",
        "colab_type": "code",
        "colab": {}
      },
      "source": [
        "fig,axis = plt.subplots(figsize=(15, 5))\n",
        "sns.countplot(x='Arrival at Pickup - Day of Month',data=train_data,palette='plasma')\n",
        "plt.xlabel('Arrival at Pickup - Day of Month',fontsize=12)\n",
        "plt.ylabel('Count',fontsize=12)\n",
        "plt.xticks(fontsize=12)\n",
        "plt.yticks(fontsize=12)\n",
        "plt.show()"
      ],
      "execution_count": 0,
      "outputs": []
    },
    {
      "cell_type": "code",
      "metadata": {
        "id": "GbuMM4RBVDVl",
        "colab_type": "code",
        "colab": {}
      },
      "source": [
        "fig,axis = plt.subplots(ncols=2, figsize=(15, 5))\n",
        "sns.countplot(x='Platform Type',data=train_data,palette='nipy_spectral',ax=axis[0])\n",
        "sns.countplot(x='Personal or Business',data=train_data,palette='magma',ax=axis[1])\n",
        "axis[0].set_title('Number of Deliveries Per Platform Type',fontsize=14)\n",
        "axis[1].set_title('Number of Personal vs. Business Deliveries',fontsize=14)\n",
        "axis[0].set_xlabel('Platform Type',fontsize=12)\n",
        "axis[1].set_xlabel('Personal or Business',fontsize=12)\n",
        "axis[0].set_ylabel('Number of Deliveries',fontsize=12)\n",
        "axis[1].set_ylabel('Number of Deliveries',fontsize=12)\n",
        "plt.xticks(fontsize=12)\n",
        "plt.yticks(fontsize=12)\n",
        "plt.show()"
      ],
      "execution_count": 0,
      "outputs": []
    },
    {
      "cell_type": "code",
      "metadata": {
        "id": "x_x3Dy7CVH_Q",
        "colab_type": "code",
        "colab": {}
      },
      "source": [
        "fig,axis = plt.subplots(figsize=(12,5))\n",
        "sns.distplot(train_data['Time from Pickup to Arrival'],color='purple')\n",
        "plt.title('Distribution of Time From Pickup to Arrival',fontsize=14)\n",
        "plt.xlabel('Time From Pickup to Arrival',fontsize=12)\n",
        "plt.ylabel('Count',fontsize=12)\n",
        "plt.xticks(fontsize=12)\n",
        "plt.yticks(fontsize=12)\n",
        "plt.show()"
      ],
      "execution_count": 0,
      "outputs": []
    },
    {
      "cell_type": "markdown",
      "metadata": {
        "id": "3_TXux35OZ55",
        "colab_type": "text"
      },
      "source": [
        "### Categorical Features"
      ]
    },
    {
      "cell_type": "markdown",
      "metadata": {
        "id": "encC9pdqU3LV",
        "colab_type": "text"
      },
      "source": [
        "* Platform Type  \n",
        "* Personal or Business  \n",
        "* Placement - Day of Month  \n",
        "* Placement - Weekday (Mo = 1)  \n",
        "* Confirmation - Day of Month  \n",
        "* Confirmation - Weekday (Mo = 1)  \n",
        "* Arrival at Pickup - Day of Month  \n",
        "* Arrival at Pickup - Weekday (Mo = 1)  \n",
        "* Pickup - Day of Month  \n",
        "* Pickup - Weekday (Mo = 1)  \n",
        "* Rider Id"
      ]
    },
    {
      "cell_type": "code",
      "metadata": {
        "id": "lIVL09xQOs2f",
        "colab_type": "code",
        "colab": {}
      },
      "source": [
        "sns.catplot(x='Platform Type', y='Time from Pickup to Arrival',data=train_data.sort_values('Platform Type'),kind='box',height=5,aspect=2,palette='nipy_spectral')\n",
        "plt.title('Distribution of Time from Pickup to Arrival Per Platform Type',fontsize=14)\n",
        "plt.xlabel('Platform Type',fontsize=12)\n",
        "plt.ylabel('Time from Pickup to Arrival',fontsize=12)\n",
        "plt.xticks(fontsize=12)\n",
        "plt.yticks(fontsize=12)\n",
        "plt.show()"
      ],
      "execution_count": 0,
      "outputs": []
    },
    {
      "cell_type": "markdown",
      "metadata": {
        "id": "z6jONYzo2Fx2",
        "colab_type": "text"
      },
      "source": [
        "<a id=\"preprocessing\"></a>\n",
        "## Data Preprocessing"
      ]
    },
    {
      "cell_type": "code",
      "metadata": {
        "id": "TYN7y0oW2Fx3",
        "colab_type": "code",
        "colab": {}
      },
      "source": [
        ""
      ],
      "execution_count": 0,
      "outputs": []
    },
    {
      "cell_type": "markdown",
      "metadata": {
        "id": "chM0AHBJ2FyD",
        "colab_type": "text"
      },
      "source": [
        "<a id=\"modelling\"></a>\n",
        "## Modelling"
      ]
    },
    {
      "cell_type": "code",
      "metadata": {
        "id": "VghElnpp2FyI",
        "colab_type": "code",
        "colab": {}
      },
      "source": [
        ""
      ],
      "execution_count": 0,
      "outputs": []
    },
    {
      "cell_type": "markdown",
      "metadata": {
        "id": "teKzAXIF2FyS",
        "colab_type": "text"
      },
      "source": [
        "<a id=\"evaluation\"></a>\n",
        "## Performance Evaluation"
      ]
    },
    {
      "cell_type": "code",
      "metadata": {
        "id": "TKnr90gF2FyT",
        "colab_type": "code",
        "colab": {}
      },
      "source": [
        ""
      ],
      "execution_count": 0,
      "outputs": []
    },
    {
      "cell_type": "markdown",
      "metadata": {
        "id": "5BiBBxvR2FyY",
        "colab_type": "text"
      },
      "source": [
        "<a id=\"analysis\"></a>\n",
        "## Model Analysis"
      ]
    },
    {
      "cell_type": "code",
      "metadata": {
        "id": "F5MAHPU62FyZ",
        "colab_type": "code",
        "colab": {}
      },
      "source": [
        ""
      ],
      "execution_count": 0,
      "outputs": []
    },
    {
      "cell_type": "markdown",
      "metadata": {
        "id": "hBFjibWi2Fy5",
        "colab_type": "text"
      },
      "source": [
        "<a id=\"conclusion\"></a>\n",
        "## Conclusion"
      ]
    },
    {
      "cell_type": "markdown",
      "metadata": {
        "id": "eoo2Ek6G2Fy6",
        "colab_type": "text"
      },
      "source": [
        "Thank you and goodnight..."
      ]
    }
  ]
}